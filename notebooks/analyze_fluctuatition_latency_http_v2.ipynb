{
 "cells": [
  {
   "cell_type": "markdown",
   "metadata": {},
   "source": [
    "### Project: Analyze fluctuations in HTTP request latency data to determine reliability\n",
    "\n",
    "- Load data (.csv) to dataframe\n",
    "- Standardize and cleaning data\n",
    "- Expore data\n",
    "- Analyze data:\n",
    "    ABC\n",
    "- Apply model"
   ]
  },
  {
   "cell_type": "code",
   "execution_count": 62,
   "metadata": {},
   "outputs": [],
   "source": [
    "import matplotlib.pyplot as plt\n",
    "import pandas as pd\n",
    "import warnings\n",
    "import numpy as np\n",
    "\n",
    "warnings.simplefilter(action='ignore', category=FutureWarning)\n",
    "warnings.simplefilter(action='ignore', category=RuntimeWarning)\n",
    "pd.options.mode.chained_assignment = None"
   ]
  },
  {
   "cell_type": "code",
   "execution_count": 63,
   "metadata": {},
   "outputs": [],
   "source": [
    "# Load dataset from CSV file\n",
    "root_df = pd.read_csv('../statics/csv/raw_data-2024-02-20_14_18_06.csv')"
   ]
  },
  {
   "cell_type": "markdown",
   "metadata": {},
   "source": [
    "Dataset là những dữ liệu thời gian thực (time-series data) liên quan đến thông tin độ trễ (latency) từ người dùng truy cập dịch vụ.\n",
    "\n",
    "**Details:**\n",
    "\n",
    "*Dữ liệu là các metrics được trích xuất từ Prometheus. Metrics này liên quan đến thông tin request từ client được gửi tới Proxy. Các Exporter collect metrics từ proxy và đẩy nó về Prometheus database.* "
   ]
  },
  {
   "cell_type": "markdown",
   "metadata": {},
   "source": [
    "### Standardize and cleaning data"
   ]
  },
  {
   "cell_type": "code",
   "execution_count": 64,
   "metadata": {},
   "outputs": [
    {
     "name": "stdout",
     "output_type": "stream",
     "text": [
      "Columns will be drop:  ['__name__', 'app', 'controller_class', 'controller_namespace', 'host', 'ingress', 'job', 'kubernetes_namespace', 'namespace', 'ns', 'path', 'pod_template_hash', 'service']\n"
     ]
    },
    {
     "data": {
      "text/html": [
       "<div>\n",
       "<style scoped>\n",
       "    .dataframe tbody tr th:only-of-type {\n",
       "        vertical-align: middle;\n",
       "    }\n",
       "\n",
       "    .dataframe tbody tr th {\n",
       "        vertical-align: top;\n",
       "    }\n",
       "\n",
       "    .dataframe thead th {\n",
       "        text-align: right;\n",
       "    }\n",
       "</style>\n",
       "<table border=\"1\" class=\"dataframe\">\n",
       "  <thead>\n",
       "    <tr style=\"text-align: right;\">\n",
       "      <th></th>\n",
       "      <th>timestamp</th>\n",
       "      <th>controller_pod</th>\n",
       "      <th>instance</th>\n",
       "      <th>kubernetes_node</th>\n",
       "      <th>kubernetes_pod_name</th>\n",
       "      <th>le</th>\n",
       "      <th>method</th>\n",
       "      <th>status</th>\n",
       "      <th>value</th>\n",
       "    </tr>\n",
       "  </thead>\n",
       "  <tbody>\n",
       "    <tr>\n",
       "      <th>0</th>\n",
       "      <td>2024-02-20 12:00:00+07:00</td>\n",
       "      <td>ingress-nginx-controller-browser-prod-6667d78f...</td>\n",
       "      <td>172.16.16.96:10254</td>\n",
       "      <td>br-ingress2v.itim.vn</td>\n",
       "      <td>ingress-nginx-controller-browser-prod-6667d78f...</td>\n",
       "      <td>inf</td>\n",
       "      <td>DELETE</td>\n",
       "      <td>308</td>\n",
       "      <td>13</td>\n",
       "    </tr>\n",
       "    <tr>\n",
       "      <th>1</th>\n",
       "      <td>2024-02-20 12:00:30+07:00</td>\n",
       "      <td>ingress-nginx-controller-browser-prod-6667d78f...</td>\n",
       "      <td>172.16.16.96:10254</td>\n",
       "      <td>br-ingress2v.itim.vn</td>\n",
       "      <td>ingress-nginx-controller-browser-prod-6667d78f...</td>\n",
       "      <td>inf</td>\n",
       "      <td>DELETE</td>\n",
       "      <td>308</td>\n",
       "      <td>13</td>\n",
       "    </tr>\n",
       "    <tr>\n",
       "      <th>2</th>\n",
       "      <td>2024-02-20 12:01:00+07:00</td>\n",
       "      <td>ingress-nginx-controller-browser-prod-6667d78f...</td>\n",
       "      <td>172.16.16.96:10254</td>\n",
       "      <td>br-ingress2v.itim.vn</td>\n",
       "      <td>ingress-nginx-controller-browser-prod-6667d78f...</td>\n",
       "      <td>inf</td>\n",
       "      <td>DELETE</td>\n",
       "      <td>308</td>\n",
       "      <td>13</td>\n",
       "    </tr>\n",
       "    <tr>\n",
       "      <th>3</th>\n",
       "      <td>2024-02-20 12:01:30+07:00</td>\n",
       "      <td>ingress-nginx-controller-browser-prod-6667d78f...</td>\n",
       "      <td>172.16.16.96:10254</td>\n",
       "      <td>br-ingress2v.itim.vn</td>\n",
       "      <td>ingress-nginx-controller-browser-prod-6667d78f...</td>\n",
       "      <td>inf</td>\n",
       "      <td>DELETE</td>\n",
       "      <td>308</td>\n",
       "      <td>13</td>\n",
       "    </tr>\n",
       "    <tr>\n",
       "      <th>4</th>\n",
       "      <td>2024-02-20 12:02:00+07:00</td>\n",
       "      <td>ingress-nginx-controller-browser-prod-6667d78f...</td>\n",
       "      <td>172.16.16.96:10254</td>\n",
       "      <td>br-ingress2v.itim.vn</td>\n",
       "      <td>ingress-nginx-controller-browser-prod-6667d78f...</td>\n",
       "      <td>inf</td>\n",
       "      <td>DELETE</td>\n",
       "      <td>308</td>\n",
       "      <td>13</td>\n",
       "    </tr>\n",
       "  </tbody>\n",
       "</table>\n",
       "</div>"
      ],
      "text/plain": [
       "                  timestamp  \\\n",
       "0 2024-02-20 12:00:00+07:00   \n",
       "1 2024-02-20 12:00:30+07:00   \n",
       "2 2024-02-20 12:01:00+07:00   \n",
       "3 2024-02-20 12:01:30+07:00   \n",
       "4 2024-02-20 12:02:00+07:00   \n",
       "\n",
       "                                      controller_pod            instance  \\\n",
       "0  ingress-nginx-controller-browser-prod-6667d78f...  172.16.16.96:10254   \n",
       "1  ingress-nginx-controller-browser-prod-6667d78f...  172.16.16.96:10254   \n",
       "2  ingress-nginx-controller-browser-prod-6667d78f...  172.16.16.96:10254   \n",
       "3  ingress-nginx-controller-browser-prod-6667d78f...  172.16.16.96:10254   \n",
       "4  ingress-nginx-controller-browser-prod-6667d78f...  172.16.16.96:10254   \n",
       "\n",
       "        kubernetes_node                                kubernetes_pod_name  \\\n",
       "0  br-ingress2v.itim.vn  ingress-nginx-controller-browser-prod-6667d78f...   \n",
       "1  br-ingress2v.itim.vn  ingress-nginx-controller-browser-prod-6667d78f...   \n",
       "2  br-ingress2v.itim.vn  ingress-nginx-controller-browser-prod-6667d78f...   \n",
       "3  br-ingress2v.itim.vn  ingress-nginx-controller-browser-prod-6667d78f...   \n",
       "4  br-ingress2v.itim.vn  ingress-nginx-controller-browser-prod-6667d78f...   \n",
       "\n",
       "    le  method  status  value  \n",
       "0  inf  DELETE     308     13  \n",
       "1  inf  DELETE     308     13  \n",
       "2  inf  DELETE     308     13  \n",
       "3  inf  DELETE     308     13  \n",
       "4  inf  DELETE     308     13  "
      ]
     },
     "execution_count": 64,
     "metadata": {},
     "output_type": "execute_result"
    }
   ],
   "source": [
    "# Clean data\n",
    "# Select related columns\n",
    "cols = root_df.columns.to_list()\n",
    "colums_drop = []\n",
    "for col in cols:\n",
    "    num_row = root_df.drop_duplicates(subset=col).__len__()\n",
    "    if num_row == 1:\n",
    "        colums_drop.append(col)\n",
    "# Show columns will be drop\n",
    "print(\"Columns will be drop: \", colums_drop)\n",
    "root_df = root_df.drop(columns=colums_drop) # Only select column selected\n",
    "# Rename columns\n",
    "cols_rename_dict = {\n",
    "    \"Time\": \"timestamp\",\n",
    "    \"Value\": \"value\"\n",
    "}\n",
    "root_df = root_df.rename(columns=cols_rename_dict)\n",
    "# Change datetime format for column \"timestamp\" and timezone\n",
    "root_df['timestamp'] = pd.to_datetime(root_df[\"timestamp\"], unit=\"ms\", utc=True).map(lambda x: x.tz_convert('Asia/Ho_Chi_Minh'))\n",
    "root_df.head()"
   ]
  },
  {
   "cell_type": "markdown",
   "metadata": {},
   "source": [
    "Trên đây dataset liên quan đến thống kê truy cập từ client sau khi thông qua các bước clean và standardilize. Thông tin các cột xuất hiện trong bảng dữ liệu:\n",
    "- timestamp: Dấu thời gian, biểu thị số liệu tại thời điểm đó\n",
    "- le: Latency, các buckets latency (hay còn gọi là các bins theo cách gọi của histogram).\n",
    "- status: HTTP status return by service\n",
    "- method: HTTP method\n",
    "- value: Giá trị của latency tại thời điểm timestamp, nó sẽ luôn luôn tăng (counter) vì toàn bộ số lượng request gửi tới server từ trước tới nay luôn luôn tăng chứ không giảm.\n",
    "\n",
    "*Note*\n",
    "\n",
    "- Dữ liệu trên được scrape từ Proxy sau mỗi 5 minutes (interval=5m) và được aggregate trong thời gian đó, vì vậy timestamp luôn luôn có delta_t = 5 minutes.\n",
    "- Việc lưu thông tin về request liên quan đến latency sử dụng các buckets để thống kê giúp cho việc giảm thiểu tài nguyên lưu trữ thay vì lưu lại duration_time cho mỗi request cụ thể. Vì vậy nó giúp cho việc overview tình trạng latency service hiệu quả hơn (dễ dàng overview bằng histogram). Tuy nhiên, sẽ phải đánh đổi về độ chính xác của metrics, đặc biệt là khi có những request có latency cực cao hoặc cực thấp thì histogram sẽ không phản ánh rõ được điều đó. "
   ]
  },
  {
   "cell_type": "markdown",
   "metadata": {},
   "source": [
    "### RATE"
   ]
  },
  {
   "cell_type": "code",
   "execution_count": 65,
   "metadata": {},
   "outputs": [],
   "source": [
    "\n",
    "def rate(time_vector: int):\n",
    "    pass"
   ]
  },
  {
   "cell_type": "code",
   "execution_count": 66,
   "metadata": {},
   "outputs": [
    {
     "data": {
      "text/html": [
       "<div>\n",
       "<style scoped>\n",
       "    .dataframe tbody tr th:only-of-type {\n",
       "        vertical-align: middle;\n",
       "    }\n",
       "\n",
       "    .dataframe tbody tr th {\n",
       "        vertical-align: top;\n",
       "    }\n",
       "\n",
       "    .dataframe thead th {\n",
       "        text-align: right;\n",
       "    }\n",
       "</style>\n",
       "<table border=\"1\" class=\"dataframe\">\n",
       "  <thead>\n",
       "    <tr style=\"text-align: right;\">\n",
       "      <th></th>\n",
       "      <th>controller_pod</th>\n",
       "      <th>instance</th>\n",
       "      <th>kubernetes_node</th>\n",
       "      <th>kubernetes_pod_name</th>\n",
       "      <th>le</th>\n",
       "      <th>method</th>\n",
       "      <th>status</th>\n",
       "    </tr>\n",
       "  </thead>\n",
       "  <tbody>\n",
       "    <tr>\n",
       "      <th>0</th>\n",
       "      <td>ingress-nginx-controller-browser-prod-6667d78f...</td>\n",
       "      <td>172.16.16.96:10254</td>\n",
       "      <td>br-ingress2v.itim.vn</td>\n",
       "      <td>ingress-nginx-controller-browser-prod-6667d78f...</td>\n",
       "      <td>0.005</td>\n",
       "      <td>DELETE</td>\n",
       "      <td>308</td>\n",
       "    </tr>\n",
       "    <tr>\n",
       "      <th>1</th>\n",
       "      <td>ingress-nginx-controller-browser-prod-6667d78f...</td>\n",
       "      <td>172.16.16.96:10254</td>\n",
       "      <td>br-ingress2v.itim.vn</td>\n",
       "      <td>ingress-nginx-controller-browser-prod-6667d78f...</td>\n",
       "      <td>0.005</td>\n",
       "      <td>DELETE</td>\n",
       "      <td>405</td>\n",
       "    </tr>\n",
       "    <tr>\n",
       "      <th>2</th>\n",
       "      <td>ingress-nginx-controller-browser-prod-6667d78f...</td>\n",
       "      <td>172.16.16.96:10254</td>\n",
       "      <td>br-ingress2v.itim.vn</td>\n",
       "      <td>ingress-nginx-controller-browser-prod-6667d78f...</td>\n",
       "      <td>0.005</td>\n",
       "      <td>GET</td>\n",
       "      <td>200</td>\n",
       "    </tr>\n",
       "    <tr>\n",
       "      <th>3</th>\n",
       "      <td>ingress-nginx-controller-browser-prod-6667d78f...</td>\n",
       "      <td>172.16.16.96:10254</td>\n",
       "      <td>br-ingress2v.itim.vn</td>\n",
       "      <td>ingress-nginx-controller-browser-prod-6667d78f...</td>\n",
       "      <td>0.005</td>\n",
       "      <td>GET</td>\n",
       "      <td>206</td>\n",
       "    </tr>\n",
       "    <tr>\n",
       "      <th>4</th>\n",
       "      <td>ingress-nginx-controller-browser-prod-6667d78f...</td>\n",
       "      <td>172.16.16.96:10254</td>\n",
       "      <td>br-ingress2v.itim.vn</td>\n",
       "      <td>ingress-nginx-controller-browser-prod-6667d78f...</td>\n",
       "      <td>0.005</td>\n",
       "      <td>GET</td>\n",
       "      <td>304</td>\n",
       "    </tr>\n",
       "  </tbody>\n",
       "</table>\n",
       "</div>"
      ],
      "text/plain": [
       "                                      controller_pod            instance  \\\n",
       "0  ingress-nginx-controller-browser-prod-6667d78f...  172.16.16.96:10254   \n",
       "1  ingress-nginx-controller-browser-prod-6667d78f...  172.16.16.96:10254   \n",
       "2  ingress-nginx-controller-browser-prod-6667d78f...  172.16.16.96:10254   \n",
       "3  ingress-nginx-controller-browser-prod-6667d78f...  172.16.16.96:10254   \n",
       "4  ingress-nginx-controller-browser-prod-6667d78f...  172.16.16.96:10254   \n",
       "\n",
       "        kubernetes_node                                kubernetes_pod_name  \\\n",
       "0  br-ingress2v.itim.vn  ingress-nginx-controller-browser-prod-6667d78f...   \n",
       "1  br-ingress2v.itim.vn  ingress-nginx-controller-browser-prod-6667d78f...   \n",
       "2  br-ingress2v.itim.vn  ingress-nginx-controller-browser-prod-6667d78f...   \n",
       "3  br-ingress2v.itim.vn  ingress-nginx-controller-browser-prod-6667d78f...   \n",
       "4  br-ingress2v.itim.vn  ingress-nginx-controller-browser-prod-6667d78f...   \n",
       "\n",
       "      le  method  status  \n",
       "0  0.005  DELETE     308  \n",
       "1  0.005  DELETE     405  \n",
       "2  0.005     GET     200  \n",
       "3  0.005     GET     206  \n",
       "4  0.005     GET     304  "
      ]
     },
     "execution_count": 66,
     "metadata": {},
     "output_type": "execute_result"
    }
   ],
   "source": [
    "legend_labels = [\"controller_pod\", \"instance\", \"kubernetes_node\", \"kubernetes_pod_name\", \"le\", \"method\", \"status\"]\n",
    "legends = root_df.groupby(legend_labels).first().reset_index()[legend_labels]\n",
    "legends.head()"
   ]
  },
  {
   "cell_type": "code",
   "execution_count": 67,
   "metadata": {},
   "outputs": [
    {
     "data": {
      "text/html": [
       "<div>\n",
       "<style scoped>\n",
       "    .dataframe tbody tr th:only-of-type {\n",
       "        vertical-align: middle;\n",
       "    }\n",
       "\n",
       "    .dataframe tbody tr th {\n",
       "        vertical-align: top;\n",
       "    }\n",
       "\n",
       "    .dataframe thead th {\n",
       "        text-align: right;\n",
       "    }\n",
       "</style>\n",
       "<table border=\"1\" class=\"dataframe\">\n",
       "  <thead>\n",
       "    <tr style=\"text-align: right;\">\n",
       "      <th></th>\n",
       "      <th>le</th>\n",
       "      <th>status</th>\n",
       "      <th>value</th>\n",
       "      <th>rate</th>\n",
       "    </tr>\n",
       "  </thead>\n",
       "  <tbody>\n",
       "    <tr>\n",
       "      <th>count</th>\n",
       "      <td>29700.00000</td>\n",
       "      <td>29700.000000</td>\n",
       "      <td>2.970000e+04</td>\n",
       "      <td>28512.000000</td>\n",
       "    </tr>\n",
       "    <tr>\n",
       "      <th>mean</th>\n",
       "      <td>inf</td>\n",
       "      <td>381.363636</td>\n",
       "      <td>3.085256e+06</td>\n",
       "      <td>0.368646</td>\n",
       "    </tr>\n",
       "    <tr>\n",
       "      <th>std</th>\n",
       "      <td>NaN</td>\n",
       "      <td>105.224427</td>\n",
       "      <td>1.449980e+07</td>\n",
       "      <td>2.031546</td>\n",
       "    </tr>\n",
       "    <tr>\n",
       "      <th>min</th>\n",
       "      <td>0.00500</td>\n",
       "      <td>200.000000</td>\n",
       "      <td>0.000000e+00</td>\n",
       "      <td>0.000000</td>\n",
       "    </tr>\n",
       "    <tr>\n",
       "      <th>25%</th>\n",
       "      <td>0.04375</td>\n",
       "      <td>308.000000</td>\n",
       "      <td>1.100000e+01</td>\n",
       "      <td>0.000000</td>\n",
       "    </tr>\n",
       "    <tr>\n",
       "      <th>50%</th>\n",
       "      <td>0.37500</td>\n",
       "      <td>404.000000</td>\n",
       "      <td>8.125000e+02</td>\n",
       "      <td>0.000000</td>\n",
       "    </tr>\n",
       "    <tr>\n",
       "      <th>75%</th>\n",
       "      <td>3.12500</td>\n",
       "      <td>499.000000</td>\n",
       "      <td>3.304025e+04</td>\n",
       "      <td>0.000000</td>\n",
       "    </tr>\n",
       "    <tr>\n",
       "      <th>max</th>\n",
       "      <td>inf</td>\n",
       "      <td>504.000000</td>\n",
       "      <td>9.582152e+07</td>\n",
       "      <td>16.140000</td>\n",
       "    </tr>\n",
       "  </tbody>\n",
       "</table>\n",
       "</div>"
      ],
      "text/plain": [
       "                le        status         value          rate\n",
       "count  29700.00000  29700.000000  2.970000e+04  28512.000000\n",
       "mean           inf    381.363636  3.085256e+06      0.368646\n",
       "std            NaN    105.224427  1.449980e+07      2.031546\n",
       "min        0.00500    200.000000  0.000000e+00      0.000000\n",
       "25%        0.04375    308.000000  1.100000e+01      0.000000\n",
       "50%        0.37500    404.000000  8.125000e+02      0.000000\n",
       "75%        3.12500    499.000000  3.304025e+04      0.000000\n",
       "max            inf    504.000000  9.582152e+07     16.140000"
      ]
     },
     "execution_count": 67,
     "metadata": {},
     "output_type": "execute_result"
    }
   ],
   "source": [
    "# Simulator rate by freq\n",
    "FREQ_RATE = \"5min\"\n",
    "\n",
    "arr_df_rate = []\n",
    "for idx, el in legends.iterrows():\n",
    "    sample = root_df[(root_df['status'] == el['status'])\n",
    "                     & (root_df['instance'] == el['instance'])\n",
    "                     & (root_df['controller_pod'] == el['controller_pod'])\n",
    "                     & (root_df['kubernetes_node'] == el['kubernetes_node'])\n",
    "                     & (root_df['kubernetes_pod_name'] == el['kubernetes_pod_name'])\n",
    "                     & (root_df['le'] == el['le'])\n",
    "                     & (root_df['method'] == el['method'])].groupby([pd.Grouper(key=\"timestamp\", freq=FREQ_RATE)])[legend_labels + [\"value\"]].first()\n",
    "    # Calculate rate()\n",
    "    sample['rate'] = sample['value'].diff(\n",
    "    ) / sample.index.to_series().diff().dt.total_seconds()\n",
    "    arr_df_rate.append(sample)\n",
    "df_rate_freq = pd.concat(arr_df_rate)\n",
    "df_rate_freq.describe()\n"
   ]
  },
  {
   "cell_type": "markdown",
   "metadata": {},
   "source": [
    "Để ý kết quả của mốc thời gian đầu tiên có giá trị rate = NaN bởi vì tập dữ liệu được xuất ra đang không có dữ liệu từ 2024-02-16 06:00:00 trở về trước. Đối với trường hợp này chỉ đơn giản là drop dòng đầu tiên có giá trị NaN và xét đến dòng tiếp theo (thực hiện xét trong khoảng thời gian từ 2024-02-16 06:05:00)"
   ]
  },
  {
   "cell_type": "code",
   "execution_count": 68,
   "metadata": {},
   "outputs": [
    {
     "data": {
      "text/html": [
       "<div>\n",
       "<style scoped>\n",
       "    .dataframe tbody tr th:only-of-type {\n",
       "        vertical-align: middle;\n",
       "    }\n",
       "\n",
       "    .dataframe tbody tr th {\n",
       "        vertical-align: top;\n",
       "    }\n",
       "\n",
       "    .dataframe thead th {\n",
       "        text-align: right;\n",
       "    }\n",
       "</style>\n",
       "<table border=\"1\" class=\"dataframe\">\n",
       "  <thead>\n",
       "    <tr style=\"text-align: right;\">\n",
       "      <th></th>\n",
       "      <th>controller_pod</th>\n",
       "      <th>instance</th>\n",
       "      <th>kubernetes_node</th>\n",
       "      <th>kubernetes_pod_name</th>\n",
       "      <th>le</th>\n",
       "      <th>method</th>\n",
       "      <th>status</th>\n",
       "      <th>value</th>\n",
       "      <th>rate</th>\n",
       "    </tr>\n",
       "    <tr>\n",
       "      <th>timestamp</th>\n",
       "      <th></th>\n",
       "      <th></th>\n",
       "      <th></th>\n",
       "      <th></th>\n",
       "      <th></th>\n",
       "      <th></th>\n",
       "      <th></th>\n",
       "      <th></th>\n",
       "      <th></th>\n",
       "    </tr>\n",
       "  </thead>\n",
       "  <tbody>\n",
       "    <tr>\n",
       "      <th>2024-02-20 12:05:00+07:00</th>\n",
       "      <td>ingress-nginx-controller-browser-prod-6667d78f...</td>\n",
       "      <td>172.16.16.96:10254</td>\n",
       "      <td>br-ingress2v.itim.vn</td>\n",
       "      <td>ingress-nginx-controller-browser-prod-6667d78f...</td>\n",
       "      <td>0.005</td>\n",
       "      <td>DELETE</td>\n",
       "      <td>308</td>\n",
       "      <td>2</td>\n",
       "      <td>0.0</td>\n",
       "    </tr>\n",
       "    <tr>\n",
       "      <th>2024-02-20 12:10:00+07:00</th>\n",
       "      <td>ingress-nginx-controller-browser-prod-6667d78f...</td>\n",
       "      <td>172.16.16.96:10254</td>\n",
       "      <td>br-ingress2v.itim.vn</td>\n",
       "      <td>ingress-nginx-controller-browser-prod-6667d78f...</td>\n",
       "      <td>0.005</td>\n",
       "      <td>DELETE</td>\n",
       "      <td>308</td>\n",
       "      <td>2</td>\n",
       "      <td>0.0</td>\n",
       "    </tr>\n",
       "    <tr>\n",
       "      <th>2024-02-20 12:15:00+07:00</th>\n",
       "      <td>ingress-nginx-controller-browser-prod-6667d78f...</td>\n",
       "      <td>172.16.16.96:10254</td>\n",
       "      <td>br-ingress2v.itim.vn</td>\n",
       "      <td>ingress-nginx-controller-browser-prod-6667d78f...</td>\n",
       "      <td>0.005</td>\n",
       "      <td>DELETE</td>\n",
       "      <td>308</td>\n",
       "      <td>2</td>\n",
       "      <td>0.0</td>\n",
       "    </tr>\n",
       "    <tr>\n",
       "      <th>2024-02-20 12:20:00+07:00</th>\n",
       "      <td>ingress-nginx-controller-browser-prod-6667d78f...</td>\n",
       "      <td>172.16.16.96:10254</td>\n",
       "      <td>br-ingress2v.itim.vn</td>\n",
       "      <td>ingress-nginx-controller-browser-prod-6667d78f...</td>\n",
       "      <td>0.005</td>\n",
       "      <td>DELETE</td>\n",
       "      <td>308</td>\n",
       "      <td>2</td>\n",
       "      <td>0.0</td>\n",
       "    </tr>\n",
       "    <tr>\n",
       "      <th>2024-02-20 12:25:00+07:00</th>\n",
       "      <td>ingress-nginx-controller-browser-prod-6667d78f...</td>\n",
       "      <td>172.16.16.96:10254</td>\n",
       "      <td>br-ingress2v.itim.vn</td>\n",
       "      <td>ingress-nginx-controller-browser-prod-6667d78f...</td>\n",
       "      <td>0.005</td>\n",
       "      <td>DELETE</td>\n",
       "      <td>308</td>\n",
       "      <td>2</td>\n",
       "      <td>0.0</td>\n",
       "    </tr>\n",
       "  </tbody>\n",
       "</table>\n",
       "</div>"
      ],
      "text/plain": [
       "                                                              controller_pod  \\\n",
       "timestamp                                                                      \n",
       "2024-02-20 12:05:00+07:00  ingress-nginx-controller-browser-prod-6667d78f...   \n",
       "2024-02-20 12:10:00+07:00  ingress-nginx-controller-browser-prod-6667d78f...   \n",
       "2024-02-20 12:15:00+07:00  ingress-nginx-controller-browser-prod-6667d78f...   \n",
       "2024-02-20 12:20:00+07:00  ingress-nginx-controller-browser-prod-6667d78f...   \n",
       "2024-02-20 12:25:00+07:00  ingress-nginx-controller-browser-prod-6667d78f...   \n",
       "\n",
       "                                     instance       kubernetes_node  \\\n",
       "timestamp                                                             \n",
       "2024-02-20 12:05:00+07:00  172.16.16.96:10254  br-ingress2v.itim.vn   \n",
       "2024-02-20 12:10:00+07:00  172.16.16.96:10254  br-ingress2v.itim.vn   \n",
       "2024-02-20 12:15:00+07:00  172.16.16.96:10254  br-ingress2v.itim.vn   \n",
       "2024-02-20 12:20:00+07:00  172.16.16.96:10254  br-ingress2v.itim.vn   \n",
       "2024-02-20 12:25:00+07:00  172.16.16.96:10254  br-ingress2v.itim.vn   \n",
       "\n",
       "                                                         kubernetes_pod_name  \\\n",
       "timestamp                                                                      \n",
       "2024-02-20 12:05:00+07:00  ingress-nginx-controller-browser-prod-6667d78f...   \n",
       "2024-02-20 12:10:00+07:00  ingress-nginx-controller-browser-prod-6667d78f...   \n",
       "2024-02-20 12:15:00+07:00  ingress-nginx-controller-browser-prod-6667d78f...   \n",
       "2024-02-20 12:20:00+07:00  ingress-nginx-controller-browser-prod-6667d78f...   \n",
       "2024-02-20 12:25:00+07:00  ingress-nginx-controller-browser-prod-6667d78f...   \n",
       "\n",
       "                              le  method  status  value  rate  \n",
       "timestamp                                                      \n",
       "2024-02-20 12:05:00+07:00  0.005  DELETE     308      2   0.0  \n",
       "2024-02-20 12:10:00+07:00  0.005  DELETE     308      2   0.0  \n",
       "2024-02-20 12:15:00+07:00  0.005  DELETE     308      2   0.0  \n",
       "2024-02-20 12:20:00+07:00  0.005  DELETE     308      2   0.0  \n",
       "2024-02-20 12:25:00+07:00  0.005  DELETE     308      2   0.0  "
      ]
     },
     "execution_count": 68,
     "metadata": {},
     "output_type": "execute_result"
    }
   ],
   "source": [
    "# Drop first row having NaN value in rate\n",
    "df_rate_freq = df_rate_freq.dropna()\n",
    "df_rate_freq.head()"
   ]
  },
  {
   "cell_type": "markdown",
   "metadata": {},
   "source": [
    "### HISTOGRAM QUANTILE"
   ]
  },
  {
   "cell_type": "code",
   "execution_count": 69,
   "metadata": {},
   "outputs": [],
   "source": [
    "def histogram_quantile(percentiles: float, df: pd.DataFrame):\n",
    "    # Choice columns for calculate\n",
    "    columns = [\"le\", \"rate\"]\n",
    "    df = df[columns].reset_index(drop=True)\n",
    "    # Get count\n",
    "    count = df[df['le'] == np.Inf]['rate'].item()\n",
    "    rank = count * percentiles\n",
    "    df['delta_rate'] = df['rate'].diff()\n",
    "    df.loc[0, 'delta_rate'] = df.loc[0, 'rate'] # Fill NaN value is first value of rate\n",
    "    count, upper_idx, lower_idx = 0, 0, 0\n",
    "    for idx, val in df['delta_rate'].items():\n",
    "        count = count + val\n",
    "        upper_idx = idx\n",
    "        lower_idx = idx - 1\n",
    "        if count >= rank:\n",
    "            break\n",
    "    \n",
    "    # Get specify row by index\n",
    "    range = df[(df.index == upper_idx) | (df.index == lower_idx)]\n",
    "    points = []\n",
    "    for idx, row in range.iterrows():\n",
    "        point = (row['rate'], row['le'])\n",
    "        points.append(point)\n",
    "    # Check if point contains +Inf -> select lower\n",
    "    y = [point[-1] for point in points]\n",
    "    if np.Inf in y:\n",
    "        return range['le'][lower_idx]\n",
    "    \n",
    "    # Using Linear interpolation\n",
    "    y1 = points[0][-1]\n",
    "    y2 = points[1][-1]\n",
    "    x = rank\n",
    "    x1 = points[0][0]\n",
    "    x2 = points[1][0]\n",
    "\n",
    "    return y1 + (x-x1)*(y2 - y1)/(x2-x1)"
   ]
  },
  {
   "cell_type": "code",
   "execution_count": 76,
   "metadata": {},
   "outputs": [
    {
     "data": {
      "text/html": [
       "<div>\n",
       "<style scoped>\n",
       "    .dataframe tbody tr th:only-of-type {\n",
       "        vertical-align: middle;\n",
       "    }\n",
       "\n",
       "    .dataframe tbody tr th {\n",
       "        vertical-align: top;\n",
       "    }\n",
       "\n",
       "    .dataframe thead th {\n",
       "        text-align: right;\n",
       "    }\n",
       "</style>\n",
       "<table border=\"1\" class=\"dataframe\">\n",
       "  <thead>\n",
       "    <tr style=\"text-align: right;\">\n",
       "      <th></th>\n",
       "      <th>timestamp</th>\n",
       "      <th>value</th>\n",
       "    </tr>\n",
       "  </thead>\n",
       "  <tbody>\n",
       "    <tr>\n",
       "      <th>0</th>\n",
       "      <td>2024-02-20 12:05:00+07:00</td>\n",
       "      <td>0.024407</td>\n",
       "    </tr>\n",
       "    <tr>\n",
       "      <th>1</th>\n",
       "      <td>2024-02-20 12:10:00+07:00</td>\n",
       "      <td>0.025794</td>\n",
       "    </tr>\n",
       "    <tr>\n",
       "      <th>2</th>\n",
       "      <td>2024-02-20 12:15:00+07:00</td>\n",
       "      <td>0.024401</td>\n",
       "    </tr>\n",
       "    <tr>\n",
       "      <th>3</th>\n",
       "      <td>2024-02-20 12:20:00+07:00</td>\n",
       "      <td>0.024923</td>\n",
       "    </tr>\n",
       "    <tr>\n",
       "      <th>4</th>\n",
       "      <td>2024-02-20 12:25:00+07:00</td>\n",
       "      <td>0.025876</td>\n",
       "    </tr>\n",
       "  </tbody>\n",
       "</table>\n",
       "</div>"
      ],
      "text/plain": [
       "                  timestamp     value\n",
       "0 2024-02-20 12:05:00+07:00  0.024407\n",
       "1 2024-02-20 12:10:00+07:00  0.025794\n",
       "2 2024-02-20 12:15:00+07:00  0.024401\n",
       "3 2024-02-20 12:20:00+07:00  0.024923\n",
       "4 2024-02-20 12:25:00+07:00  0.025876"
      ]
     },
     "execution_count": 76,
     "metadata": {},
     "output_type": "execute_result"
    }
   ],
   "source": [
    "percentile = 0.95\n",
    "\n",
    "df_sum_rate = pd.DataFrame()\n",
    "df_sum_rate['rate'] = df_rate_freq.groupby(['timestamp', 'le'])['rate'].sum()\n",
    "df_sum_rate = df_sum_rate.reset_index()\n",
    "\n",
    "# Get distinct timestamp\n",
    "timestamps = df_sum_rate['timestamp'].drop_duplicates().to_list()\n",
    "# Create df histogram percentile\n",
    "histogram_percentile_values = []\n",
    "for timestamp in timestamps:\n",
    "    sample = df_sum_rate[df_sum_rate['timestamp'] == timestamp]\n",
    "    percentile_value = histogram_quantile(percentile, sample)\n",
    "    val = {\n",
    "        \"timestamp\": timestamp,\n",
    "        \"value\": percentile_value\n",
    "    }\n",
    "    histogram_percentile_values.append(val)\n",
    "df_histogram_percentile = pd.DataFrame(histogram_percentile_values)\n",
    "df_histogram_percentile.head()"
   ]
  },
  {
   "cell_type": "code",
   "execution_count": 110,
   "metadata": {},
   "outputs": [
    {
     "data": {
      "image/png": "[encoded data removed]",
      "text/plain": [
       "<Figure size 2000x400 with 1 Axes>"
      ]
     },
     "metadata": {},
     "output_type": "display_data"
    }
   ],
   "source": [
    "# Plot\n",
    "import matplotlib.dates as mdates\n",
    "fig, ax = plt.subplots(figsize=(20, 4))\n",
    "ax.xaxis.set_major_locator(mdates.MinuteLocator(byminute=[x*5 for x in range(12)]))\n",
    "ax.xaxis.set_major_formatter(mdates.DateFormatter('%H:%M'))\n",
    "ax.plot(df_histogram_percentile['timestamp'], df_histogram_percentile['value'])\n",
    "plt.show()\n",
    "# df_histogram_percentile.plot()"
   ]
  },
  {
   "cell_type": "markdown",
   "metadata": {},
   "source": [
    "#### SAMPLE (Calculate histogram quantile)"
   ]
  },
  {
   "cell_type": "code",
   "execution_count": 71,
   "metadata": {},
   "outputs": [],
   "source": [
    "# Check\n",
    "s = df_rate_freq[(df_rate_freq['controller_pod'] == 'ingress-nginx-controller-browser-prod-6667d78f7f-h9xcm') \n",
    "               & (df_rate_freq['instance'] == '172.16.16.96:10254')\n",
    "               & (df_rate_freq['kubernetes_node'] == 'br-ingress2v.itim.vn')\n",
    "               & (df_rate_freq['kubernetes_pod_name'] == 'ingress-nginx-controller-browser-prod-6667d78f7f-h9xcm')\n",
    "            #    & (df_rate_freq['le'] == np.Inf)\n",
    "               & (df_rate_freq['method'] == 'GET')\n",
    "               & (df_rate_freq['status'] == 200) & (df_rate_freq.index == \"2024-02-16 11:15:00+07:00\")]"
   ]
  },
  {
   "cell_type": "code",
   "execution_count": 72,
   "metadata": {},
   "outputs": [
    {
     "ename": "ValueError",
     "evalue": "can only convert an array of size 1 to a Python scalar",
     "output_type": "error",
     "traceback": [
      "\u001b[1;31m---------------------------------------------------------------------------\u001b[0m",
      "\u001b[1;31mValueError\u001b[0m                                Traceback (most recent call last)",
      "Cell \u001b[1;32mIn[72], line 1\u001b[0m\n\u001b[1;32m----> 1\u001b[0m \u001b[38;5;28mprint\u001b[39m(\u001b[43mhistogram_quantile\u001b[49m\u001b[43m(\u001b[49m\u001b[38;5;241;43m0.95\u001b[39;49m\u001b[43m,\u001b[49m\u001b[43m \u001b[49m\u001b[43ms\u001b[49m\u001b[43m)\u001b[49m)\n",
      "Cell \u001b[1;32mIn[69], line 6\u001b[0m, in \u001b[0;36mhistogram_quantile\u001b[1;34m(percentiles, df)\u001b[0m\n\u001b[0;32m      4\u001b[0m df \u001b[38;5;241m=\u001b[39m df[columns]\u001b[38;5;241m.\u001b[39mreset_index(drop\u001b[38;5;241m=\u001b[39m\u001b[38;5;28;01mTrue\u001b[39;00m)\n\u001b[0;32m      5\u001b[0m \u001b[38;5;66;03m# Get count\u001b[39;00m\n\u001b[1;32m----> 6\u001b[0m count \u001b[38;5;241m=\u001b[39m \u001b[43mdf\u001b[49m\u001b[43m[\u001b[49m\u001b[43mdf\u001b[49m\u001b[43m[\u001b[49m\u001b[38;5;124;43m'\u001b[39;49m\u001b[38;5;124;43mle\u001b[39;49m\u001b[38;5;124;43m'\u001b[39;49m\u001b[43m]\u001b[49m\u001b[43m \u001b[49m\u001b[38;5;241;43m==\u001b[39;49m\u001b[43m \u001b[49m\u001b[43mnp\u001b[49m\u001b[38;5;241;43m.\u001b[39;49m\u001b[43mInf\u001b[49m\u001b[43m]\u001b[49m\u001b[43m[\u001b[49m\u001b[38;5;124;43m'\u001b[39;49m\u001b[38;5;124;43mrate\u001b[39;49m\u001b[38;5;124;43m'\u001b[39;49m\u001b[43m]\u001b[49m\u001b[38;5;241;43m.\u001b[39;49m\u001b[43mitem\u001b[49m\u001b[43m(\u001b[49m\u001b[43m)\u001b[49m\n\u001b[0;32m      7\u001b[0m rank \u001b[38;5;241m=\u001b[39m count \u001b[38;5;241m*\u001b[39m percentiles\n\u001b[0;32m      8\u001b[0m df[\u001b[38;5;124m'\u001b[39m\u001b[38;5;124mdelta_rate\u001b[39m\u001b[38;5;124m'\u001b[39m] \u001b[38;5;241m=\u001b[39m df[\u001b[38;5;124m'\u001b[39m\u001b[38;5;124mrate\u001b[39m\u001b[38;5;124m'\u001b[39m]\u001b[38;5;241m.\u001b[39mdiff()\n",
      "File \u001b[1;32mc:\\Users\\vunv\\AppData\\Local\\Programs\\Python\\Python310\\lib\\site-packages\\pandas\\core\\base.py:418\u001b[0m, in \u001b[0;36mIndexOpsMixin.item\u001b[1;34m(self)\u001b[0m\n\u001b[0;32m    416\u001b[0m \u001b[38;5;28;01mif\u001b[39;00m \u001b[38;5;28mlen\u001b[39m(\u001b[38;5;28mself\u001b[39m) \u001b[38;5;241m==\u001b[39m \u001b[38;5;241m1\u001b[39m:\n\u001b[0;32m    417\u001b[0m     \u001b[38;5;28;01mreturn\u001b[39;00m \u001b[38;5;28mnext\u001b[39m(\u001b[38;5;28miter\u001b[39m(\u001b[38;5;28mself\u001b[39m))\n\u001b[1;32m--> 418\u001b[0m \u001b[38;5;28;01mraise\u001b[39;00m \u001b[38;5;167;01mValueError\u001b[39;00m(\u001b[38;5;124m\"\u001b[39m\u001b[38;5;124mcan only convert an array of size 1 to a Python scalar\u001b[39m\u001b[38;5;124m\"\u001b[39m)\n",
      "\u001b[1;31mValueError\u001b[0m: can only convert an array of size 1 to a Python scalar"
     ]
    }
   ],
   "source": [
    "print(histogram_quantile(0.95, s))"
   ]
  },
  {
   "cell_type": "markdown",
   "metadata": {},
   "source": [
    "### Explore data"
   ]
  },
  {
   "cell_type": "markdown",
   "metadata": {},
   "source": [
    "Đầu tiên sẽ thực hiện khám phá dataset đang xét xem có điều gì bất thường đối với tập dữ liệu đó không. Bởi dataset trên đang sử dụng cho mục đích phân tích dữ liệu liên quan đến latency của service. Nên giá trị cần lưu ý trong tập dữ liệu trên là **timestamp và value** sẽ ưu tiên để đánh giá những bất thường. "
   ]
  },
  {
   "cell_type": "markdown",
   "metadata": {},
   "source": [
    "Thực hiện vẽ biểu đồ đánh giá tổng quan theo time-series để xem xét việc tăng trưởng request đối với hệ thống"
   ]
  },
  {
   "cell_type": "code",
   "execution_count": null,
   "metadata": {},
   "outputs": [
    {
     "data": {
      "text/plain": [
       "<Axes: xlabel='timestamp'>"
      ]
     },
     "execution_count": 30,
     "metadata": {},
     "output_type": "execute_result"
    },
    {
     "data": {
      "image/png": "[encoded data removed]",
      "text/plain": [
       "<Figure size 1000x400 with 1 Axes>"
      ]
     },
     "metadata": {},
     "output_type": "display_data"
    }
   ],
   "source": [
    "root_df.groupby(['timestamp']).agg({'value': 'sum'}).reset_index().set_index(\"timestamp\").sort_index().plot(figsize=(10, 4), grid=True)"
   ]
  },
  {
   "cell_type": "markdown",
   "metadata": {},
   "source": [
    "Có vẻ có bất thường gì đó đối với dataset. Quan sát thấy ngưỡng thời gian trong khoảng từ [7:25 -> 7:28] số lượng request tăng vọt. Vậy vấn đề ở đây là gì?"
   ]
  },
  {
   "cell_type": "code",
   "execution_count": null,
   "metadata": {},
   "outputs": [
    {
     "data": {
      "text/html": [
       "<div>\n",
       "<style scoped>\n",
       "    .dataframe tbody tr th:only-of-type {\n",
       "        vertical-align: middle;\n",
       "    }\n",
       "\n",
       "    .dataframe tbody tr th {\n",
       "        vertical-align: top;\n",
       "    }\n",
       "\n",
       "    .dataframe thead th {\n",
       "        text-align: right;\n",
       "    }\n",
       "</style>\n",
       "<table border=\"1\" class=\"dataframe\">\n",
       "  <thead>\n",
       "    <tr style=\"text-align: right;\">\n",
       "      <th></th>\n",
       "      <th>timestamp</th>\n",
       "      <th>controller_pod</th>\n",
       "      <th>instance</th>\n",
       "      <th>kubernetes_node</th>\n",
       "      <th>kubernetes_pod_name</th>\n",
       "      <th>le</th>\n",
       "      <th>method</th>\n",
       "      <th>status</th>\n",
       "      <th>value</th>\n",
       "    </tr>\n",
       "  </thead>\n",
       "  <tbody>\n",
       "  </tbody>\n",
       "</table>\n",
       "</div>"
      ],
      "text/plain": [
       "Empty DataFrame\n",
       "Columns: [timestamp, controller_pod, instance, kubernetes_node, kubernetes_pod_name, le, method, status, value]\n",
       "Index: []"
      ]
     },
     "execution_count": 31,
     "metadata": {},
     "output_type": "execute_result"
    }
   ],
   "source": [
    "timerange_abnormal = [\"2024-02-05 07:25:00\", \"2024-02-05 07:28:00\"]\n",
    "mask = (root_df['timestamp'] > timerange_abnormal[0]) & (root_df['timestamp'] <= timerange_abnormal[1])\n",
    "data_abnormal = root_df.loc[mask].reset_index(drop=True)\n",
    "data_abnormal.head()"
   ]
  },
  {
   "cell_type": "code",
   "execution_count": null,
   "metadata": {},
   "outputs": [
    {
     "data": {
      "text/plain": [
       "<Axes: xlabel='timestamp'>"
      ]
     },
     "execution_count": 32,
     "metadata": {},
     "output_type": "execute_result"
    },
    {
     "data": {
      "image/png": "[encoded data removed]",
      "text/plain": [
       "<Figure size 640x480 with 1 Axes>"
      ]
     },
     "metadata": {},
     "output_type": "display_data"
    }
   ],
   "source": [
    "data_abnormal_agg_le = root_df.groupby(['timestamp', 'le']).agg({'value': 'sum'}).reset_index()\n",
    "data_abnormal_agg_le['pct_change'] = data_abnormal_agg_le.groupby(['le'])['value'].pct_change()\n",
    "data_abnormal_agg_le.pivot(index=\"timestamp\", columns=\"le\", values=\"pct_change\").plot()"
   ]
  }
 ],
 "metadata": {
  "kernelspec": {
   "display_name": "Python 3",
   "language": "python",
   "name": "python3"
  },
  "language_info": {
   "codemirror_mode": {
    "name": "ipython",
    "version": 3
   },
   "file_extension": ".py",
   "mimetype": "text/x-python",
   "name": "python",
   "nbconvert_exporter": "python",
   "pygments_lexer": "ipython3",
   "version": "3.10.0"
  }
 },
 "nbformat": 4,
 "nbformat_minor": 2
}
