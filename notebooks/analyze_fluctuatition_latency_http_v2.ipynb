{
 "cells": [
  {
   "cell_type": "markdown",
   "metadata": {},
   "source": [
    "### Project: Analyze fluctuations in HTTP request latency data to determine reliability\n",
    "\n",
    "- Load data (.csv) to dataframe\n",
    "- Standardize and cleaning data\n",
    "- Expore data\n",
    "- Analyze data:\n",
    "    ABC\n",
    "- Apply model"
   ]
  },
  {
   "cell_type": "code",
   "execution_count": 1,
   "metadata": {},
   "outputs": [],
   "source": [
    "import matplotlib.pyplot as plt\n",
    "import pandas as pd\n",
    "import warnings\n",
    "import numpy as np\n",
    "\n",
    "warnings.simplefilter(action='ignore', category=FutureWarning)\n",
    "warnings.simplefilter(action='ignore', category=RuntimeWarning)\n",
    "pd.options.mode.chained_assignment = None"
   ]
  },
  {
   "cell_type": "code",
   "execution_count": 2,
   "metadata": {},
   "outputs": [],
   "source": [
    "# Load dataset from CSV file\n",
    "root_df = pd.read_csv('../statics/csv/raw_data-2024-02-16_0600_1200.csv')"
   ]
  },
  {
   "cell_type": "markdown",
   "metadata": {},
   "source": [
    "Dataset là những dữ liệu thời gian thực (time-series data) liên quan đến thông tin độ trễ (latency) từ người dùng truy cập dịch vụ.\n",
    "\n",
    "**Details:**\n",
    "\n",
    "*Dữ liệu là các metrics được trích xuất từ Prometheus. Metrics này liên quan đến thông tin request từ client được gửi tới Proxy. Các Exporter collect metrics từ proxy và đẩy nó về Prometheus database.* "
   ]
  },
  {
   "cell_type": "markdown",
   "metadata": {},
   "source": [
    "### Standardize and cleaning data"
   ]
  },
  {
   "cell_type": "code",
   "execution_count": 3,
   "metadata": {},
   "outputs": [
    {
     "name": "stdout",
     "output_type": "stream",
     "text": [
      "Columns will be drop:  ['__name__', 'app', 'controller_class', 'controller_namespace', 'host', 'ingress', 'job', 'kubernetes_namespace', 'namespace', 'ns', 'path', 'pod_template_hash', 'service']\n"
     ]
    },
    {
     "data": {
      "text/html": [
       "<div>\n",
       "<style scoped>\n",
       "    .dataframe tbody tr th:only-of-type {\n",
       "        vertical-align: middle;\n",
       "    }\n",
       "\n",
       "    .dataframe tbody tr th {\n",
       "        vertical-align: top;\n",
       "    }\n",
       "\n",
       "    .dataframe thead th {\n",
       "        text-align: right;\n",
       "    }\n",
       "</style>\n",
       "<table border=\"1\" class=\"dataframe\">\n",
       "  <thead>\n",
       "    <tr style=\"text-align: right;\">\n",
       "      <th></th>\n",
       "      <th>timestamp</th>\n",
       "      <th>controller_pod</th>\n",
       "      <th>instance</th>\n",
       "      <th>kubernetes_node</th>\n",
       "      <th>kubernetes_pod_name</th>\n",
       "      <th>le</th>\n",
       "      <th>method</th>\n",
       "      <th>status</th>\n",
       "      <th>value</th>\n",
       "    </tr>\n",
       "  </thead>\n",
       "  <tbody>\n",
       "    <tr>\n",
       "      <th>0</th>\n",
       "      <td>2024-02-16 06:00:00+07:00</td>\n",
       "      <td>ingress-nginx-controller-browser-prod-6667d78f...</td>\n",
       "      <td>172.16.16.96:10254</td>\n",
       "      <td>br-ingress2v.itim.vn</td>\n",
       "      <td>ingress-nginx-controller-browser-prod-6667d78f...</td>\n",
       "      <td>inf</td>\n",
       "      <td>DELETE</td>\n",
       "      <td>308</td>\n",
       "      <td>13</td>\n",
       "    </tr>\n",
       "    <tr>\n",
       "      <th>1</th>\n",
       "      <td>2024-02-16 06:00:30+07:00</td>\n",
       "      <td>ingress-nginx-controller-browser-prod-6667d78f...</td>\n",
       "      <td>172.16.16.96:10254</td>\n",
       "      <td>br-ingress2v.itim.vn</td>\n",
       "      <td>ingress-nginx-controller-browser-prod-6667d78f...</td>\n",
       "      <td>inf</td>\n",
       "      <td>DELETE</td>\n",
       "      <td>308</td>\n",
       "      <td>13</td>\n",
       "    </tr>\n",
       "    <tr>\n",
       "      <th>2</th>\n",
       "      <td>2024-02-16 06:01:00+07:00</td>\n",
       "      <td>ingress-nginx-controller-browser-prod-6667d78f...</td>\n",
       "      <td>172.16.16.96:10254</td>\n",
       "      <td>br-ingress2v.itim.vn</td>\n",
       "      <td>ingress-nginx-controller-browser-prod-6667d78f...</td>\n",
       "      <td>inf</td>\n",
       "      <td>DELETE</td>\n",
       "      <td>308</td>\n",
       "      <td>13</td>\n",
       "    </tr>\n",
       "    <tr>\n",
       "      <th>3</th>\n",
       "      <td>2024-02-16 06:01:30+07:00</td>\n",
       "      <td>ingress-nginx-controller-browser-prod-6667d78f...</td>\n",
       "      <td>172.16.16.96:10254</td>\n",
       "      <td>br-ingress2v.itim.vn</td>\n",
       "      <td>ingress-nginx-controller-browser-prod-6667d78f...</td>\n",
       "      <td>inf</td>\n",
       "      <td>DELETE</td>\n",
       "      <td>308</td>\n",
       "      <td>13</td>\n",
       "    </tr>\n",
       "    <tr>\n",
       "      <th>4</th>\n",
       "      <td>2024-02-16 06:02:00+07:00</td>\n",
       "      <td>ingress-nginx-controller-browser-prod-6667d78f...</td>\n",
       "      <td>172.16.16.96:10254</td>\n",
       "      <td>br-ingress2v.itim.vn</td>\n",
       "      <td>ingress-nginx-controller-browser-prod-6667d78f...</td>\n",
       "      <td>inf</td>\n",
       "      <td>DELETE</td>\n",
       "      <td>308</td>\n",
       "      <td>13</td>\n",
       "    </tr>\n",
       "  </tbody>\n",
       "</table>\n",
       "</div>"
      ],
      "text/plain": [
       "                  timestamp  \\\n",
       "0 2024-02-16 06:00:00+07:00   \n",
       "1 2024-02-16 06:00:30+07:00   \n",
       "2 2024-02-16 06:01:00+07:00   \n",
       "3 2024-02-16 06:01:30+07:00   \n",
       "4 2024-02-16 06:02:00+07:00   \n",
       "\n",
       "                                      controller_pod            instance  \\\n",
       "0  ingress-nginx-controller-browser-prod-6667d78f...  172.16.16.96:10254   \n",
       "1  ingress-nginx-controller-browser-prod-6667d78f...  172.16.16.96:10254   \n",
       "2  ingress-nginx-controller-browser-prod-6667d78f...  172.16.16.96:10254   \n",
       "3  ingress-nginx-controller-browser-prod-6667d78f...  172.16.16.96:10254   \n",
       "4  ingress-nginx-controller-browser-prod-6667d78f...  172.16.16.96:10254   \n",
       "\n",
       "        kubernetes_node                                kubernetes_pod_name  \\\n",
       "0  br-ingress2v.itim.vn  ingress-nginx-controller-browser-prod-6667d78f...   \n",
       "1  br-ingress2v.itim.vn  ingress-nginx-controller-browser-prod-6667d78f...   \n",
       "2  br-ingress2v.itim.vn  ingress-nginx-controller-browser-prod-6667d78f...   \n",
       "3  br-ingress2v.itim.vn  ingress-nginx-controller-browser-prod-6667d78f...   \n",
       "4  br-ingress2v.itim.vn  ingress-nginx-controller-browser-prod-6667d78f...   \n",
       "\n",
       "    le  method  status  value  \n",
       "0  inf  DELETE     308     13  \n",
       "1  inf  DELETE     308     13  \n",
       "2  inf  DELETE     308     13  \n",
       "3  inf  DELETE     308     13  \n",
       "4  inf  DELETE     308     13  "
      ]
     },
     "execution_count": 3,
     "metadata": {},
     "output_type": "execute_result"
    }
   ],
   "source": [
    "# Clean data\n",
    "# Select related columns\n",
    "cols = root_df.columns.to_list()\n",
    "colums_drop = []\n",
    "for col in cols:\n",
    "    num_row = root_df.drop_duplicates(subset=col).__len__()\n",
    "    if num_row == 1:\n",
    "        colums_drop.append(col)\n",
    "# Show columns will be drop\n",
    "print(\"Columns will be drop: \", colums_drop)\n",
    "root_df = root_df.drop(columns=colums_drop) # Only select column selected\n",
    "# Rename columns\n",
    "cols_rename_dict = {\n",
    "    \"Time\": \"timestamp\",\n",
    "    \"Value\": \"value\"\n",
    "}\n",
    "root_df = root_df.rename(columns=cols_rename_dict)\n",
    "# Change datetime format for column \"timestamp\" and timezone\n",
    "root_df['timestamp'] = pd.to_datetime(root_df[\"timestamp\"], unit=\"ms\", utc=True).map(lambda x: x.tz_convert('Asia/Ho_Chi_Minh'))\n",
    "root_df.head()"
   ]
  },
  {
   "cell_type": "markdown",
   "metadata": {},
   "source": [
    "Trên đây dataset liên quan đến thống kê truy cập từ client sau khi thông qua các bước clean và standardilize. Thông tin các cột xuất hiện trong bảng dữ liệu:\n",
    "- timestamp: Dấu thời gian, biểu thị số liệu tại thời điểm đó\n",
    "- le: Latency, các buckets latency (hay còn gọi là các bins theo cách gọi của histogram).\n",
    "- status: HTTP status return by service\n",
    "- method: HTTP method\n",
    "- value: Giá trị của latency tại thời điểm timestamp, nó sẽ luôn luôn tăng (counter) vì toàn bộ số lượng request gửi tới server từ trước tới nay luôn luôn tăng chứ không giảm.\n",
    "\n",
    "*Note*\n",
    "\n",
    "- Dữ liệu trên được scrape từ Proxy sau mỗi 5 minutes (interval=5m) và được aggregate trong thời gian đó, vì vậy timestamp luôn luôn có delta_t = 5 minutes.\n",
    "- Việc lưu thông tin về request liên quan đến latency sử dụng các buckets để thống kê giúp cho việc giảm thiểu tài nguyên lưu trữ thay vì lưu lại duration_time cho mỗi request cụ thể. Vì vậy nó giúp cho việc overview tình trạng latency service hiệu quả hơn (dễ dàng overview bằng histogram). Tuy nhiên, sẽ phải đánh đổi về độ chính xác của metrics, đặc biệt là khi có những request có latency cực cao hoặc cực thấp thì histogram sẽ không phản ánh rõ được điều đó. "
   ]
  },
  {
   "cell_type": "markdown",
   "metadata": {},
   "source": [
    "### RATE"
   ]
  },
  {
   "cell_type": "code",
   "execution_count": 4,
   "metadata": {},
   "outputs": [],
   "source": [
    "\n",
    "def rate(time_vector: int):\n",
    "    pass"
   ]
  },
  {
   "cell_type": "code",
   "execution_count": 5,
   "metadata": {},
   "outputs": [
    {
     "data": {
      "text/html": [
       "<div>\n",
       "<style scoped>\n",
       "    .dataframe tbody tr th:only-of-type {\n",
       "        vertical-align: middle;\n",
       "    }\n",
       "\n",
       "    .dataframe tbody tr th {\n",
       "        vertical-align: top;\n",
       "    }\n",
       "\n",
       "    .dataframe thead th {\n",
       "        text-align: right;\n",
       "    }\n",
       "</style>\n",
       "<table border=\"1\" class=\"dataframe\">\n",
       "  <thead>\n",
       "    <tr style=\"text-align: right;\">\n",
       "      <th></th>\n",
       "      <th>controller_pod</th>\n",
       "      <th>instance</th>\n",
       "      <th>kubernetes_node</th>\n",
       "      <th>kubernetes_pod_name</th>\n",
       "      <th>le</th>\n",
       "      <th>method</th>\n",
       "      <th>status</th>\n",
       "    </tr>\n",
       "  </thead>\n",
       "  <tbody>\n",
       "    <tr>\n",
       "      <th>0</th>\n",
       "      <td>ingress-nginx-controller-browser-prod-6667d78f...</td>\n",
       "      <td>172.16.16.96:10254</td>\n",
       "      <td>br-ingress2v.itim.vn</td>\n",
       "      <td>ingress-nginx-controller-browser-prod-6667d78f...</td>\n",
       "      <td>0.005</td>\n",
       "      <td>DELETE</td>\n",
       "      <td>308</td>\n",
       "    </tr>\n",
       "    <tr>\n",
       "      <th>1</th>\n",
       "      <td>ingress-nginx-controller-browser-prod-6667d78f...</td>\n",
       "      <td>172.16.16.96:10254</td>\n",
       "      <td>br-ingress2v.itim.vn</td>\n",
       "      <td>ingress-nginx-controller-browser-prod-6667d78f...</td>\n",
       "      <td>0.005</td>\n",
       "      <td>DELETE</td>\n",
       "      <td>405</td>\n",
       "    </tr>\n",
       "    <tr>\n",
       "      <th>2</th>\n",
       "      <td>ingress-nginx-controller-browser-prod-6667d78f...</td>\n",
       "      <td>172.16.16.96:10254</td>\n",
       "      <td>br-ingress2v.itim.vn</td>\n",
       "      <td>ingress-nginx-controller-browser-prod-6667d78f...</td>\n",
       "      <td>0.005</td>\n",
       "      <td>GET</td>\n",
       "      <td>200</td>\n",
       "    </tr>\n",
       "    <tr>\n",
       "      <th>3</th>\n",
       "      <td>ingress-nginx-controller-browser-prod-6667d78f...</td>\n",
       "      <td>172.16.16.96:10254</td>\n",
       "      <td>br-ingress2v.itim.vn</td>\n",
       "      <td>ingress-nginx-controller-browser-prod-6667d78f...</td>\n",
       "      <td>0.005</td>\n",
       "      <td>GET</td>\n",
       "      <td>206</td>\n",
       "    </tr>\n",
       "    <tr>\n",
       "      <th>4</th>\n",
       "      <td>ingress-nginx-controller-browser-prod-6667d78f...</td>\n",
       "      <td>172.16.16.96:10254</td>\n",
       "      <td>br-ingress2v.itim.vn</td>\n",
       "      <td>ingress-nginx-controller-browser-prod-6667d78f...</td>\n",
       "      <td>0.005</td>\n",
       "      <td>GET</td>\n",
       "      <td>304</td>\n",
       "    </tr>\n",
       "  </tbody>\n",
       "</table>\n",
       "</div>"
      ],
      "text/plain": [
       "                                      controller_pod            instance  \\\n",
       "0  ingress-nginx-controller-browser-prod-6667d78f...  172.16.16.96:10254   \n",
       "1  ingress-nginx-controller-browser-prod-6667d78f...  172.16.16.96:10254   \n",
       "2  ingress-nginx-controller-browser-prod-6667d78f...  172.16.16.96:10254   \n",
       "3  ingress-nginx-controller-browser-prod-6667d78f...  172.16.16.96:10254   \n",
       "4  ingress-nginx-controller-browser-prod-6667d78f...  172.16.16.96:10254   \n",
       "\n",
       "        kubernetes_node                                kubernetes_pod_name  \\\n",
       "0  br-ingress2v.itim.vn  ingress-nginx-controller-browser-prod-6667d78f...   \n",
       "1  br-ingress2v.itim.vn  ingress-nginx-controller-browser-prod-6667d78f...   \n",
       "2  br-ingress2v.itim.vn  ingress-nginx-controller-browser-prod-6667d78f...   \n",
       "3  br-ingress2v.itim.vn  ingress-nginx-controller-browser-prod-6667d78f...   \n",
       "4  br-ingress2v.itim.vn  ingress-nginx-controller-browser-prod-6667d78f...   \n",
       "\n",
       "      le  method  status  \n",
       "0  0.005  DELETE     308  \n",
       "1  0.005  DELETE     405  \n",
       "2  0.005     GET     200  \n",
       "3  0.005     GET     206  \n",
       "4  0.005     GET     304  "
      ]
     },
     "execution_count": 5,
     "metadata": {},
     "output_type": "execute_result"
    }
   ],
   "source": [
    "legend_labels = [\"controller_pod\", \"instance\", \"kubernetes_node\", \"kubernetes_pod_name\", \"le\", \"method\", \"status\"]\n",
    "legends = root_df.groupby(legend_labels).first().reset_index()[legend_labels]\n",
    "legends.head()"
   ]
  },
  {
   "cell_type": "code",
   "execution_count": 6,
   "metadata": {},
   "outputs": [
    {
     "name": "stderr",
     "output_type": "stream",
     "text": [
      "c:\\Users\\vunv\\AppData\\Local\\Programs\\Python\\Python310\\lib\\site-packages\\pandas\\core\\nanops.py:1016: RuntimeWarning: invalid value encountered in subtract\n",
      "  sqr = _ensure_numeric((avg - values) ** 2)\n"
     ]
    },
    {
     "data": {
      "text/html": [
       "<div>\n",
       "<style scoped>\n",
       "    .dataframe tbody tr th:only-of-type {\n",
       "        vertical-align: middle;\n",
       "    }\n",
       "\n",
       "    .dataframe tbody tr th {\n",
       "        vertical-align: top;\n",
       "    }\n",
       "\n",
       "    .dataframe thead th {\n",
       "        text-align: right;\n",
       "    }\n",
       "</style>\n",
       "<table border=\"1\" class=\"dataframe\">\n",
       "  <thead>\n",
       "    <tr style=\"text-align: right;\">\n",
       "      <th></th>\n",
       "      <th>le</th>\n",
       "      <th>status</th>\n",
       "      <th>value</th>\n",
       "      <th>rate</th>\n",
       "    </tr>\n",
       "  </thead>\n",
       "  <tbody>\n",
       "    <tr>\n",
       "      <th>count</th>\n",
       "      <td>86724.00000</td>\n",
       "      <td>86724.000000</td>\n",
       "      <td>8.672400e+04</td>\n",
       "      <td>85536.000000</td>\n",
       "    </tr>\n",
       "    <tr>\n",
       "      <th>mean</th>\n",
       "      <td>inf</td>\n",
       "      <td>381.363636</td>\n",
       "      <td>2.983423e+06</td>\n",
       "      <td>0.289933</td>\n",
       "    </tr>\n",
       "    <tr>\n",
       "      <th>std</th>\n",
       "      <td>NaN</td>\n",
       "      <td>105.223262</td>\n",
       "      <td>1.395950e+07</td>\n",
       "      <td>1.693646</td>\n",
       "    </tr>\n",
       "    <tr>\n",
       "      <th>min</th>\n",
       "      <td>0.00500</td>\n",
       "      <td>200.000000</td>\n",
       "      <td>0.000000e+00</td>\n",
       "      <td>0.000000</td>\n",
       "    </tr>\n",
       "    <tr>\n",
       "      <th>25%</th>\n",
       "      <td>0.04375</td>\n",
       "      <td>308.000000</td>\n",
       "      <td>1.100000e+01</td>\n",
       "      <td>0.000000</td>\n",
       "    </tr>\n",
       "    <tr>\n",
       "      <th>50%</th>\n",
       "      <td>0.37500</td>\n",
       "      <td>404.000000</td>\n",
       "      <td>8.025000e+02</td>\n",
       "      <td>0.000000</td>\n",
       "    </tr>\n",
       "    <tr>\n",
       "      <th>75%</th>\n",
       "      <td>3.12500</td>\n",
       "      <td>499.000000</td>\n",
       "      <td>3.238300e+04</td>\n",
       "      <td>0.000000</td>\n",
       "    </tr>\n",
       "    <tr>\n",
       "      <th>max</th>\n",
       "      <td>inf</td>\n",
       "      <td>504.000000</td>\n",
       "      <td>9.251770e+07</td>\n",
       "      <td>14.836667</td>\n",
       "    </tr>\n",
       "  </tbody>\n",
       "</table>\n",
       "</div>"
      ],
      "text/plain": [
       "                le        status         value          rate\n",
       "count  86724.00000  86724.000000  8.672400e+04  85536.000000\n",
       "mean           inf    381.363636  2.983423e+06      0.289933\n",
       "std            NaN    105.223262  1.395950e+07      1.693646\n",
       "min        0.00500    200.000000  0.000000e+00      0.000000\n",
       "25%        0.04375    308.000000  1.100000e+01      0.000000\n",
       "50%        0.37500    404.000000  8.025000e+02      0.000000\n",
       "75%        3.12500    499.000000  3.238300e+04      0.000000\n",
       "max            inf    504.000000  9.251770e+07     14.836667"
      ]
     },
     "execution_count": 6,
     "metadata": {},
     "output_type": "execute_result"
    }
   ],
   "source": [
    "# Simulator rate by freq\n",
    "FREQ_RATE = \"5min\"\n",
    "\n",
    "arr_df_rate = []\n",
    "for idx, el in legends.iterrows():\n",
    "    sample = root_df[(root_df['status'] == el['status'])\n",
    "                     & (root_df['instance'] == el['instance'])\n",
    "                     & (root_df['controller_pod'] == el['controller_pod'])\n",
    "                     & (root_df['kubernetes_node'] == el['kubernetes_node'])\n",
    "                     & (root_df['kubernetes_pod_name'] == el['kubernetes_pod_name'])\n",
    "                     & (root_df['le'] == el['le'])\n",
    "                     & (root_df['method'] == el['method'])].groupby([pd.Grouper(key=\"timestamp\", freq=FREQ_RATE)])[legend_labels + [\"value\"]].first()\n",
    "    # Calculate rate()\n",
    "    sample['rate'] = sample['value'].diff(\n",
    "    ) / sample.index.to_series().diff().dt.total_seconds()\n",
    "    arr_df_rate.append(sample)\n",
    "df_rate_freq = pd.concat(arr_df_rate)\n",
    "df_rate_freq.describe()\n"
   ]
  },
  {
   "cell_type": "markdown",
   "metadata": {},
   "source": [
    "Để ý kết quả của mốc thời gian đầu tiên có giá trị rate = NaN bởi vì tập dữ liệu được xuất ra đang không có dữ liệu từ 2024-02-16 06:00:00 trở về trước. Đối với trường hợp này chỉ đơn giản là drop dòng đầu tiên có giá trị NaN và xét đến dòng tiếp theo (thực hiện xét trong khoảng thời gian từ 2024-02-16 06:05:00)"
   ]
  },
  {
   "cell_type": "code",
   "execution_count": 7,
   "metadata": {},
   "outputs": [
    {
     "data": {
      "text/html": [
       "<div>\n",
       "<style scoped>\n",
       "    .dataframe tbody tr th:only-of-type {\n",
       "        vertical-align: middle;\n",
       "    }\n",
       "\n",
       "    .dataframe tbody tr th {\n",
       "        vertical-align: top;\n",
       "    }\n",
       "\n",
       "    .dataframe thead th {\n",
       "        text-align: right;\n",
       "    }\n",
       "</style>\n",
       "<table border=\"1\" class=\"dataframe\">\n",
       "  <thead>\n",
       "    <tr style=\"text-align: right;\">\n",
       "      <th></th>\n",
       "      <th>controller_pod</th>\n",
       "      <th>instance</th>\n",
       "      <th>kubernetes_node</th>\n",
       "      <th>kubernetes_pod_name</th>\n",
       "      <th>le</th>\n",
       "      <th>method</th>\n",
       "      <th>status</th>\n",
       "      <th>value</th>\n",
       "      <th>rate</th>\n",
       "    </tr>\n",
       "    <tr>\n",
       "      <th>timestamp</th>\n",
       "      <th></th>\n",
       "      <th></th>\n",
       "      <th></th>\n",
       "      <th></th>\n",
       "      <th></th>\n",
       "      <th></th>\n",
       "      <th></th>\n",
       "      <th></th>\n",
       "      <th></th>\n",
       "    </tr>\n",
       "  </thead>\n",
       "  <tbody>\n",
       "    <tr>\n",
       "      <th>2024-02-16 06:05:00+07:00</th>\n",
       "      <td>ingress-nginx-controller-browser-prod-6667d78f...</td>\n",
       "      <td>172.16.16.96:10254</td>\n",
       "      <td>br-ingress2v.itim.vn</td>\n",
       "      <td>ingress-nginx-controller-browser-prod-6667d78f...</td>\n",
       "      <td>0.005</td>\n",
       "      <td>DELETE</td>\n",
       "      <td>308</td>\n",
       "      <td>2</td>\n",
       "      <td>0.0</td>\n",
       "    </tr>\n",
       "    <tr>\n",
       "      <th>2024-02-16 06:10:00+07:00</th>\n",
       "      <td>ingress-nginx-controller-browser-prod-6667d78f...</td>\n",
       "      <td>172.16.16.96:10254</td>\n",
       "      <td>br-ingress2v.itim.vn</td>\n",
       "      <td>ingress-nginx-controller-browser-prod-6667d78f...</td>\n",
       "      <td>0.005</td>\n",
       "      <td>DELETE</td>\n",
       "      <td>308</td>\n",
       "      <td>2</td>\n",
       "      <td>0.0</td>\n",
       "    </tr>\n",
       "    <tr>\n",
       "      <th>2024-02-16 06:15:00+07:00</th>\n",
       "      <td>ingress-nginx-controller-browser-prod-6667d78f...</td>\n",
       "      <td>172.16.16.96:10254</td>\n",
       "      <td>br-ingress2v.itim.vn</td>\n",
       "      <td>ingress-nginx-controller-browser-prod-6667d78f...</td>\n",
       "      <td>0.005</td>\n",
       "      <td>DELETE</td>\n",
       "      <td>308</td>\n",
       "      <td>2</td>\n",
       "      <td>0.0</td>\n",
       "    </tr>\n",
       "    <tr>\n",
       "      <th>2024-02-16 06:20:00+07:00</th>\n",
       "      <td>ingress-nginx-controller-browser-prod-6667d78f...</td>\n",
       "      <td>172.16.16.96:10254</td>\n",
       "      <td>br-ingress2v.itim.vn</td>\n",
       "      <td>ingress-nginx-controller-browser-prod-6667d78f...</td>\n",
       "      <td>0.005</td>\n",
       "      <td>DELETE</td>\n",
       "      <td>308</td>\n",
       "      <td>2</td>\n",
       "      <td>0.0</td>\n",
       "    </tr>\n",
       "    <tr>\n",
       "      <th>2024-02-16 06:25:00+07:00</th>\n",
       "      <td>ingress-nginx-controller-browser-prod-6667d78f...</td>\n",
       "      <td>172.16.16.96:10254</td>\n",
       "      <td>br-ingress2v.itim.vn</td>\n",
       "      <td>ingress-nginx-controller-browser-prod-6667d78f...</td>\n",
       "      <td>0.005</td>\n",
       "      <td>DELETE</td>\n",
       "      <td>308</td>\n",
       "      <td>2</td>\n",
       "      <td>0.0</td>\n",
       "    </tr>\n",
       "  </tbody>\n",
       "</table>\n",
       "</div>"
      ],
      "text/plain": [
       "                                                              controller_pod  \\\n",
       "timestamp                                                                      \n",
       "2024-02-16 06:05:00+07:00  ingress-nginx-controller-browser-prod-6667d78f...   \n",
       "2024-02-16 06:10:00+07:00  ingress-nginx-controller-browser-prod-6667d78f...   \n",
       "2024-02-16 06:15:00+07:00  ingress-nginx-controller-browser-prod-6667d78f...   \n",
       "2024-02-16 06:20:00+07:00  ingress-nginx-controller-browser-prod-6667d78f...   \n",
       "2024-02-16 06:25:00+07:00  ingress-nginx-controller-browser-prod-6667d78f...   \n",
       "\n",
       "                                     instance       kubernetes_node  \\\n",
       "timestamp                                                             \n",
       "2024-02-16 06:05:00+07:00  172.16.16.96:10254  br-ingress2v.itim.vn   \n",
       "2024-02-16 06:10:00+07:00  172.16.16.96:10254  br-ingress2v.itim.vn   \n",
       "2024-02-16 06:15:00+07:00  172.16.16.96:10254  br-ingress2v.itim.vn   \n",
       "2024-02-16 06:20:00+07:00  172.16.16.96:10254  br-ingress2v.itim.vn   \n",
       "2024-02-16 06:25:00+07:00  172.16.16.96:10254  br-ingress2v.itim.vn   \n",
       "\n",
       "                                                         kubernetes_pod_name  \\\n",
       "timestamp                                                                      \n",
       "2024-02-16 06:05:00+07:00  ingress-nginx-controller-browser-prod-6667d78f...   \n",
       "2024-02-16 06:10:00+07:00  ingress-nginx-controller-browser-prod-6667d78f...   \n",
       "2024-02-16 06:15:00+07:00  ingress-nginx-controller-browser-prod-6667d78f...   \n",
       "2024-02-16 06:20:00+07:00  ingress-nginx-controller-browser-prod-6667d78f...   \n",
       "2024-02-16 06:25:00+07:00  ingress-nginx-controller-browser-prod-6667d78f...   \n",
       "\n",
       "                              le  method  status  value  rate  \n",
       "timestamp                                                      \n",
       "2024-02-16 06:05:00+07:00  0.005  DELETE     308      2   0.0  \n",
       "2024-02-16 06:10:00+07:00  0.005  DELETE     308      2   0.0  \n",
       "2024-02-16 06:15:00+07:00  0.005  DELETE     308      2   0.0  \n",
       "2024-02-16 06:20:00+07:00  0.005  DELETE     308      2   0.0  \n",
       "2024-02-16 06:25:00+07:00  0.005  DELETE     308      2   0.0  "
      ]
     },
     "execution_count": 7,
     "metadata": {},
     "output_type": "execute_result"
    }
   ],
   "source": [
    "# Drop first row having NaN value in rate\n",
    "df_rate_freq = df_rate_freq.dropna()\n",
    "df_rate_freq.head()"
   ]
  },
  {
   "cell_type": "code",
   "execution_count": 9,
   "metadata": {},
   "outputs": [
    {
     "data": {
      "text/plain": [
       "<Axes: xlabel='timestamp'>"
      ]
     },
     "execution_count": 9,
     "metadata": {},
     "output_type": "execute_result"
    },
    {
     "data": {
      "image/png": "[encoded data removed]",
      "text/plain": [
       "<Figure size 640x480 with 1 Axes>"
      ]
     },
     "metadata": {},
     "output_type": "display_data"
    }
   ],
   "source": [
    "# Check\n",
    "df_rate_freq[(df_rate_freq['controller_pod'] == 'ingress-nginx-controller-browser-prod-6667d78f7f-h9xcm') \n",
    "               & (df_rate_freq['instance'] == '172.16.16.96:10254')\n",
    "               & (df_rate_freq['kubernetes_node'] == 'br-ingress2v.itim.vn')\n",
    "               & (df_rate_freq['kubernetes_pod_name'] == 'ingress-nginx-controller-browser-prod-6667d78f7f-h9xcm')\n",
    "               & (df_rate_freq['le'] == np.Inf)\n",
    "               & (df_rate_freq['method'] == 'GET')\n",
    "               & (df_rate_freq['status'] == 200)].plot(y=\"rate\")"
   ]
  },
  {
   "cell_type": "code",
   "execution_count": 19,
   "metadata": {},
   "outputs": [
    {
     "data": {
      "text/html": [
       "<div>\n",
       "<style scoped>\n",
       "    .dataframe tbody tr th:only-of-type {\n",
       "        vertical-align: middle;\n",
       "    }\n",
       "\n",
       "    .dataframe tbody tr th {\n",
       "        vertical-align: top;\n",
       "    }\n",
       "\n",
       "    .dataframe thead th {\n",
       "        text-align: right;\n",
       "    }\n",
       "</style>\n",
       "<table border=\"1\" class=\"dataframe\">\n",
       "  <thead>\n",
       "    <tr style=\"text-align: right;\">\n",
       "      <th></th>\n",
       "      <th></th>\n",
       "      <th>sum_rate</th>\n",
       "    </tr>\n",
       "    <tr>\n",
       "      <th>timestamp</th>\n",
       "      <th>le</th>\n",
       "      <th></th>\n",
       "    </tr>\n",
       "  </thead>\n",
       "  <tbody>\n",
       "    <tr>\n",
       "      <th rowspan=\"5\" valign=\"top\">2024-02-16 06:05:00+07:00</th>\n",
       "      <th>0.005</th>\n",
       "      <td>4.916667</td>\n",
       "    </tr>\n",
       "    <tr>\n",
       "      <th>0.010</th>\n",
       "      <td>6.136667</td>\n",
       "    </tr>\n",
       "    <tr>\n",
       "      <th>0.025</th>\n",
       "      <td>6.730000</td>\n",
       "    </tr>\n",
       "    <tr>\n",
       "      <th>0.050</th>\n",
       "      <td>7.696667</td>\n",
       "    </tr>\n",
       "    <tr>\n",
       "      <th>0.100</th>\n",
       "      <td>7.756667</td>\n",
       "    </tr>\n",
       "  </tbody>\n",
       "</table>\n",
       "</div>"
      ],
      "text/plain": [
       "                                 sum_rate\n",
       "timestamp                 le             \n",
       "2024-02-16 06:05:00+07:00 0.005  4.916667\n",
       "                          0.010  6.136667\n",
       "                          0.025  6.730000\n",
       "                          0.050  7.696667\n",
       "                          0.100  7.756667"
      ]
     },
     "execution_count": 19,
     "metadata": {},
     "output_type": "execute_result"
    }
   ],
   "source": [
    "# Calculate sum\n",
    "df_sum_rate = pd.DataFrame()\n",
    "df_sum_rate['sum_rate'] = df_rate_freq.groupby([\"timestamp\", \"le\"])['rate'].sum()\n",
    "df_sum_rate.head()"
   ]
  },
  {
   "cell_type": "code",
   "execution_count": 27,
   "metadata": {},
   "outputs": [
    {
     "data": {
      "text/html": [
       "<div>\n",
       "<style scoped>\n",
       "    .dataframe tbody tr th:only-of-type {\n",
       "        vertical-align: middle;\n",
       "    }\n",
       "\n",
       "    .dataframe tbody tr th {\n",
       "        vertical-align: top;\n",
       "    }\n",
       "\n",
       "    .dataframe thead th {\n",
       "        text-align: right;\n",
       "    }\n",
       "</style>\n",
       "<table border=\"1\" class=\"dataframe\">\n",
       "  <thead>\n",
       "    <tr style=\"text-align: right;\">\n",
       "      <th></th>\n",
       "      <th>timestamp</th>\n",
       "      <th>le</th>\n",
       "      <th>sum_rate</th>\n",
       "    </tr>\n",
       "  </thead>\n",
       "  <tbody>\n",
       "    <tr>\n",
       "      <th>0</th>\n",
       "      <td>2024-02-16 06:05:00+07:00</td>\n",
       "      <td>0.005</td>\n",
       "      <td>4.916667</td>\n",
       "    </tr>\n",
       "    <tr>\n",
       "      <th>1</th>\n",
       "      <td>2024-02-16 06:05:00+07:00</td>\n",
       "      <td>0.010</td>\n",
       "      <td>6.136667</td>\n",
       "    </tr>\n",
       "    <tr>\n",
       "      <th>2</th>\n",
       "      <td>2024-02-16 06:05:00+07:00</td>\n",
       "      <td>0.025</td>\n",
       "      <td>6.730000</td>\n",
       "    </tr>\n",
       "    <tr>\n",
       "      <th>3</th>\n",
       "      <td>2024-02-16 06:05:00+07:00</td>\n",
       "      <td>0.050</td>\n",
       "      <td>7.696667</td>\n",
       "    </tr>\n",
       "    <tr>\n",
       "      <th>4</th>\n",
       "      <td>2024-02-16 06:05:00+07:00</td>\n",
       "      <td>0.100</td>\n",
       "      <td>7.756667</td>\n",
       "    </tr>\n",
       "    <tr>\n",
       "      <th>5</th>\n",
       "      <td>2024-02-16 06:05:00+07:00</td>\n",
       "      <td>0.250</td>\n",
       "      <td>7.756667</td>\n",
       "    </tr>\n",
       "    <tr>\n",
       "      <th>6</th>\n",
       "      <td>2024-02-16 06:05:00+07:00</td>\n",
       "      <td>0.500</td>\n",
       "      <td>7.760000</td>\n",
       "    </tr>\n",
       "    <tr>\n",
       "      <th>7</th>\n",
       "      <td>2024-02-16 06:05:00+07:00</td>\n",
       "      <td>1.000</td>\n",
       "      <td>7.760000</td>\n",
       "    </tr>\n",
       "    <tr>\n",
       "      <th>8</th>\n",
       "      <td>2024-02-16 06:05:00+07:00</td>\n",
       "      <td>2.500</td>\n",
       "      <td>7.760000</td>\n",
       "    </tr>\n",
       "    <tr>\n",
       "      <th>9</th>\n",
       "      <td>2024-02-16 06:05:00+07:00</td>\n",
       "      <td>5.000</td>\n",
       "      <td>7.760000</td>\n",
       "    </tr>\n",
       "    <tr>\n",
       "      <th>10</th>\n",
       "      <td>2024-02-16 06:05:00+07:00</td>\n",
       "      <td>10.000</td>\n",
       "      <td>7.760000</td>\n",
       "    </tr>\n",
       "    <tr>\n",
       "      <th>11</th>\n",
       "      <td>2024-02-16 06:05:00+07:00</td>\n",
       "      <td>inf</td>\n",
       "      <td>7.760000</td>\n",
       "    </tr>\n",
       "  </tbody>\n",
       "</table>\n",
       "</div>"
      ],
      "text/plain": [
       "                   timestamp      le  sum_rate\n",
       "0  2024-02-16 06:05:00+07:00   0.005  4.916667\n",
       "1  2024-02-16 06:05:00+07:00   0.010  6.136667\n",
       "2  2024-02-16 06:05:00+07:00   0.025  6.730000\n",
       "3  2024-02-16 06:05:00+07:00   0.050  7.696667\n",
       "4  2024-02-16 06:05:00+07:00   0.100  7.756667\n",
       "5  2024-02-16 06:05:00+07:00   0.250  7.756667\n",
       "6  2024-02-16 06:05:00+07:00   0.500  7.760000\n",
       "7  2024-02-16 06:05:00+07:00   1.000  7.760000\n",
       "8  2024-02-16 06:05:00+07:00   2.500  7.760000\n",
       "9  2024-02-16 06:05:00+07:00   5.000  7.760000\n",
       "10 2024-02-16 06:05:00+07:00  10.000  7.760000\n",
       "11 2024-02-16 06:05:00+07:00     inf  7.760000"
      ]
     },
     "execution_count": 27,
     "metadata": {},
     "output_type": "execute_result"
    }
   ],
   "source": [
    "# Calculate quantile\n",
    "sample_sum_rate = df_sum_rate.query(\"timestamp == '2024-02-16 06:05:00+07:00'\").reset_index()\n",
    "sample_sum_rate"
   ]
  },
  {
   "cell_type": "code",
   "execution_count": null,
   "metadata": {},
   "outputs": [],
   "source": [
    "def histogram_quantile(percentile: int, dataset: pd.DataFrame):\n",
    "    pass\n",
    "\n",
    "histogram_quantile(95, sample_sum_rate)"
   ]
  },
  {
   "cell_type": "code",
   "execution_count": 28,
   "metadata": {},
   "outputs": [
    {
     "name": "stdout",
     "output_type": "stream",
     "text": [
      "The 95th percentile is: 10.0\n"
     ]
    }
   ],
   "source": [
    "def histogram_quantile_linear(quantile, data):\n",
    "    total_count = sum(count for _, count in data)\n",
    "    target_count = quantile * total_count\n",
    "\n",
    "    current_count = 0\n",
    "    for i in range(len(data) - 1):\n",
    "        x0, y0 = data[i]\n",
    "        x1, y1 = data[i + 1]\n",
    "\n",
    "        current_count += y0\n",
    "        if current_count >= target_count:\n",
    "            fraction = (target_count - (current_count - y0)) / (y1 - y0)\n",
    "            return x0 + (x1 - x0) * fraction\n",
    "\n",
    "    # If for some reason the loop doesn't exit early, return the last endpoint\n",
    "    return data[-1][0]\n",
    "\n",
    "# Example usage:\n",
    "histogram_data = [\n",
    "    (0.005, 4.916667),\n",
    "    (0.010, 6.136667),\n",
    "    (0.025, 6.730000),\n",
    "    (0.050, 7.696667),\n",
    "    (0.100, 7.756667),\n",
    "    (0.250, 7.756667),\n",
    "    (0.500, 7.760000),\n",
    "    (1.000, 7.760000),\n",
    "    (2.500, 7.760000),\n",
    "    (5.000, 7.760000),\n",
    "    (10.000, 7.760000),\n",
    "    # Add more data points as needed\n",
    "]\n",
    "\n",
    "quantile_value = histogram_quantile_linear(0.95, histogram_data)\n",
    "print(f\"The 95th percentile is: {quantile_value}\")"
   ]
  },
  {
   "cell_type": "markdown",
   "metadata": {},
   "source": [
    "### Explore data"
   ]
  },
  {
   "cell_type": "markdown",
   "metadata": {},
   "source": [
    "Đầu tiên sẽ thực hiện khám phá dataset đang xét xem có điều gì bất thường đối với tập dữ liệu đó không. Bởi dataset trên đang sử dụng cho mục đích phân tích dữ liệu liên quan đến latency của service. Nên giá trị cần lưu ý trong tập dữ liệu trên là **timestamp và value** sẽ ưu tiên để đánh giá những bất thường. "
   ]
  },
  {
   "cell_type": "markdown",
   "metadata": {},
   "source": [
    "Thực hiện vẽ biểu đồ đánh giá tổng quan theo time-series để xem xét việc tăng trưởng request đối với hệ thống"
   ]
  },
  {
   "cell_type": "code",
   "execution_count": null,
   "metadata": {},
   "outputs": [
    {
     "data": {
      "text/plain": [
       "<Axes: xlabel='timestamp'>"
      ]
     },
     "execution_count": 15,
     "metadata": {},
     "output_type": "execute_result"
    },
    {
     "data": {
      "image/png": "[encoded data removed]",
      "text/plain": [
       "<Figure size 1000x400 with 1 Axes>"
      ]
     },
     "metadata": {},
     "output_type": "display_data"
    }
   ],
   "source": [
    "root_df.groupby(['timestamp']).agg({'value': 'sum'}).reset_index().set_index(\"timestamp\").sort_index().plot(figsize=(10, 4), grid=True)"
   ]
  },
  {
   "cell_type": "markdown",
   "metadata": {},
   "source": [
    "Có vẻ có bất thường gì đó đối với dataset. Quan sát thấy ngưỡng thời gian trong khoảng từ [7:25 -> 7:28] số lượng request tăng vọt. Vậy vấn đề ở đây là gì?"
   ]
  },
  {
   "cell_type": "code",
   "execution_count": null,
   "metadata": {},
   "outputs": [
    {
     "data": {
      "text/html": [
       "<div>\n",
       "<style scoped>\n",
       "    .dataframe tbody tr th:only-of-type {\n",
       "        vertical-align: middle;\n",
       "    }\n",
       "\n",
       "    .dataframe tbody tr th {\n",
       "        vertical-align: top;\n",
       "    }\n",
       "\n",
       "    .dataframe thead th {\n",
       "        text-align: right;\n",
       "    }\n",
       "</style>\n",
       "<table border=\"1\" class=\"dataframe\">\n",
       "  <thead>\n",
       "    <tr style=\"text-align: right;\">\n",
       "      <th></th>\n",
       "      <th>timestamp</th>\n",
       "      <th>controller_pod</th>\n",
       "      <th>instance</th>\n",
       "      <th>kubernetes_node</th>\n",
       "      <th>kubernetes_pod_name</th>\n",
       "      <th>le</th>\n",
       "      <th>method</th>\n",
       "      <th>status</th>\n",
       "      <th>value</th>\n",
       "    </tr>\n",
       "  </thead>\n",
       "  <tbody>\n",
       "  </tbody>\n",
       "</table>\n",
       "</div>"
      ],
      "text/plain": [
       "Empty DataFrame\n",
       "Columns: [timestamp, controller_pod, instance, kubernetes_node, kubernetes_pod_name, le, method, status, value]\n",
       "Index: []"
      ]
     },
     "execution_count": 16,
     "metadata": {},
     "output_type": "execute_result"
    }
   ],
   "source": [
    "timerange_abnormal = [\"2024-02-05 07:25:00\", \"2024-02-05 07:28:00\"]\n",
    "mask = (root_df['timestamp'] > timerange_abnormal[0]) & (root_df['timestamp'] <= timerange_abnormal[1])\n",
    "data_abnormal = root_df.loc[mask].reset_index(drop=True)\n",
    "data_abnormal.head()"
   ]
  },
  {
   "cell_type": "code",
   "execution_count": null,
   "metadata": {},
   "outputs": [
    {
     "data": {
      "text/plain": [
       "<Axes: xlabel='timestamp'>"
      ]
     },
     "execution_count": 17,
     "metadata": {},
     "output_type": "execute_result"
    },
    {
     "data": {
      "image/png": "[encoded data removed]",
      "text/plain": [
       "<Figure size 640x480 with 1 Axes>"
      ]
     },
     "metadata": {},
     "output_type": "display_data"
    }
   ],
   "source": [
    "data_abnormal_agg_le = root_df.groupby(['timestamp', 'le']).agg({'value': 'sum'}).reset_index()\n",
    "data_abnormal_agg_le['pct_change'] = data_abnormal_agg_le.groupby(['le'])['value'].pct_change()\n",
    "data_abnormal_agg_le.pivot(index=\"timestamp\", columns=\"le\", values=\"pct_change\").plot()"
   ]
  }
 ],
 "metadata": {
  "kernelspec": {
   "display_name": "Python 3",
   "language": "python",
   "name": "python3"
  },
  "language_info": {
   "codemirror_mode": {
    "name": "ipython",
    "version": 3
   },
   "file_extension": ".py",
   "mimetype": "text/x-python",
   "name": "python",
   "nbconvert_exporter": "python",
   "pygments_lexer": "ipython3",
   "version": "3.10.0"
  }
 },
 "nbformat": 4,
 "nbformat_minor": 2
}
