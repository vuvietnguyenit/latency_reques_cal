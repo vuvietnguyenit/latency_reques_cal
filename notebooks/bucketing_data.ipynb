{
 "cells": [
  {
   "cell_type": "code",
   "execution_count": 34,
   "id": "bbedb9cd498ec4e8",
   "metadata": {
    "ExecuteTime": {
     "end_time": "2024-02-02T03:19:35.328196900Z",
     "start_time": "2024-02-02T03:19:35.308660700Z"
    },
    "collapsed": false
   },
   "outputs": [],
   "source": [
    "# warnings....ignore\n",
    "import pandas as pd\n",
    "import warnings\n",
    "\n",
    "warnings.simplefilter(action='ignore', category=FutureWarning)\n",
    "\n",
    "\n",
    "pd.options.mode.chained_assignment = None"
   ]
  },
  {
   "cell_type": "code",
   "execution_count": 35,
   "id": "initial_id",
   "metadata": {
    "ExecuteTime": {
     "end_time": "2024-02-02T03:19:35.392982600Z",
     "start_time": "2024-02-02T03:19:35.333486800Z"
    },
    "collapsed": true
   },
   "outputs": [],
   "source": [
    "DATA = []\n",
    "BUCKETS = [0.005, 0.01, 0.025, 0.05, 0.1, 0.25, 0.5, 1, 2, 5, 10]\n",
    "TIME_VECTOR = 5  # second"
   ]
  },
  {
   "cell_type": "code",
   "execution_count": 36,
   "id": "537e3fd170b27a4f",
   "metadata": {
    "ExecuteTime": {
     "end_time": "2024-02-02T03:19:35.420273200Z",
     "start_time": "2024-02-02T03:19:35.400100Z"
    },
    "collapsed": false
   },
   "outputs": [],
   "source": [
    "import json\n",
    "\n",
    "\n",
    "def get_data_from_file(filename: str):\n",
    "    f = open(filename, \"r\")\n",
    "    while True:\n",
    "        line = f.readline()\n",
    "        if not line:\n",
    "            break\n",
    "        # Standardize json to dict\n",
    "        row = json.loads(line)\n",
    "        # Append to Array\n",
    "        DATA.append(row)"
   ]
  },
  {
   "cell_type": "code",
   "execution_count": 37,
   "id": "fd241967a07d1ce6",
   "metadata": {
    "ExecuteTime": {
     "end_time": "2024-02-02T03:19:35.604250Z",
     "start_time": "2024-02-02T03:19:35.424824Z"
    },
    "collapsed": false
   },
   "outputs": [],
   "source": [
    "get_data_from_file(\"../statics/request_data_with_anomaly_pod_instance.json\")"
   ]
  },
  {
   "cell_type": "code",
   "execution_count": 38,
   "id": "27635ed1caa37b9e",
   "metadata": {
    "ExecuteTime": {
     "end_time": "2024-02-02T03:19:35.613894800Z",
     "start_time": "2024-02-02T03:19:35.604250Z"
    },
    "collapsed": false
   },
   "outputs": [],
   "source": [
    "group_by_el = [\"path\", \"method\", \"service_name\", \"controller_pod\"]"
   ]
  },
  {
   "cell_type": "code",
   "execution_count": 39,
   "id": "37e8554bc2895458",
   "metadata": {
    "ExecuteTime": {
     "end_time": "2024-02-02T03:19:35.673084300Z",
     "start_time": "2024-02-02T03:19:35.613894800Z"
    },
    "collapsed": false
   },
   "outputs": [],
   "source": [
    "# Create dataframe\n",
    "root_df = pd.DataFrame(DATA)"
   ]
  },
  {
   "cell_type": "code",
   "execution_count": 40,
   "id": "d040cffd69e41508",
   "metadata": {
    "ExecuteTime": {
     "end_time": "2024-02-02T03:19:35.695757800Z",
     "start_time": "2024-02-02T03:19:35.687340Z"
    },
    "collapsed": false
   },
   "outputs": [
    {
     "data": {
      "text/html": [
       "<div>\n",
       "<style scoped>\n",
       "    .dataframe tbody tr th:only-of-type {\n",
       "        vertical-align: middle;\n",
       "    }\n",
       "\n",
       "    .dataframe tbody tr th {\n",
       "        vertical-align: top;\n",
       "    }\n",
       "\n",
       "    .dataframe thead th {\n",
       "        text-align: right;\n",
       "    }\n",
       "</style>\n",
       "<table border=\"1\" class=\"dataframe\">\n",
       "  <thead>\n",
       "    <tr style=\"text-align: right;\">\n",
       "      <th></th>\n",
       "      <th>timestamp</th>\n",
       "      <th>path</th>\n",
       "      <th>method</th>\n",
       "      <th>service_name</th>\n",
       "      <th>controller_pod</th>\n",
       "      <th>duration_time</th>\n",
       "    </tr>\n",
       "  </thead>\n",
       "  <tbody>\n",
       "    <tr>\n",
       "      <th>0</th>\n",
       "      <td>04/02/2024, 22:06:03</td>\n",
       "      <td>/users</td>\n",
       "      <td>GET</td>\n",
       "      <td>process_log</td>\n",
       "      <td>pod-2</td>\n",
       "      <td>0.328</td>\n",
       "    </tr>\n",
       "    <tr>\n",
       "      <th>1</th>\n",
       "      <td>04/02/2024, 22:06:04</td>\n",
       "      <td>/users</td>\n",
       "      <td>GET</td>\n",
       "      <td>process_log</td>\n",
       "      <td>pod-2</td>\n",
       "      <td>0.770</td>\n",
       "    </tr>\n",
       "    <tr>\n",
       "      <th>2</th>\n",
       "      <td>04/02/2024, 22:06:04</td>\n",
       "      <td>/users</td>\n",
       "      <td>GET</td>\n",
       "      <td>process_log</td>\n",
       "      <td>pod-1</td>\n",
       "      <td>0.349</td>\n",
       "    </tr>\n",
       "    <tr>\n",
       "      <th>3</th>\n",
       "      <td>04/02/2024, 22:06:04</td>\n",
       "      <td>/users</td>\n",
       "      <td>GET</td>\n",
       "      <td>process_log</td>\n",
       "      <td>pod-2</td>\n",
       "      <td>0.722</td>\n",
       "    </tr>\n",
       "    <tr>\n",
       "      <th>4</th>\n",
       "      <td>04/02/2024, 22:06:05</td>\n",
       "      <td>/users</td>\n",
       "      <td>GET</td>\n",
       "      <td>process_log</td>\n",
       "      <td>pod-1</td>\n",
       "      <td>0.640</td>\n",
       "    </tr>\n",
       "  </tbody>\n",
       "</table>\n",
       "</div>"
      ],
      "text/plain": [
       "              timestamp    path method service_name controller_pod  \\\n",
       "0  04/02/2024, 22:06:03  /users    GET  process_log          pod-2   \n",
       "1  04/02/2024, 22:06:04  /users    GET  process_log          pod-2   \n",
       "2  04/02/2024, 22:06:04  /users    GET  process_log          pod-1   \n",
       "3  04/02/2024, 22:06:04  /users    GET  process_log          pod-2   \n",
       "4  04/02/2024, 22:06:05  /users    GET  process_log          pod-1   \n",
       "\n",
       "   duration_time  \n",
       "0          0.328  \n",
       "1          0.770  \n",
       "2          0.349  \n",
       "3          0.722  \n",
       "4          0.640  "
      ]
     },
     "execution_count": 40,
     "metadata": {},
     "output_type": "execute_result"
    }
   ],
   "source": [
    "root_df.head()"
   ]
  },
  {
   "cell_type": "code",
   "execution_count": 41,
   "id": "54c6754c41a0f661",
   "metadata": {
    "ExecuteTime": {
     "end_time": "2024-02-02T03:19:35.795196800Z",
     "start_time": "2024-02-02T03:19:35.694601Z"
    },
    "collapsed": false
   },
   "outputs": [],
   "source": [
    "# Bins data to bucket latency\n",
    "def bucketing(duration_time):\n",
    "    res = []\n",
    "    for bucket in BUCKETS:\n",
    "        if duration_time <= bucket:\n",
    "            res.append(bucket)\n",
    "    res.append(\"+Inf\")\n",
    "    return res\n",
    "\n",
    "root_df[\"le\"] = root_df[\"duration_time\"].apply(lambda x: bucketing(x))"
   ]
  },
  {
   "cell_type": "code",
   "execution_count": 42,
   "id": "64ca05dffc4319c7",
   "metadata": {
    "ExecuteTime": {
     "end_time": "2024-02-02T03:19:35.841460500Z",
     "start_time": "2024-02-02T03:19:35.794154700Z"
    },
    "collapsed": false
   },
   "outputs": [
    {
     "data": {
      "text/plain": [
       "2            [0.5, 1, 2, 5, 10, +Inf]\n",
       "4                 [1, 2, 5, 10, +Inf]\n",
       "9                 [1, 2, 5, 10, +Inf]\n",
       "12           [0.5, 1, 2, 5, 10, +Inf]\n",
       "14                [1, 2, 5, 10, +Inf]\n",
       "                    ...              \n",
       "723    [0.25, 0.5, 1, 2, 5, 10, +Inf]\n",
       "724          [0.5, 1, 2, 5, 10, +Inf]\n",
       "725               [1, 2, 5, 10, +Inf]\n",
       "727          [0.5, 1, 2, 5, 10, +Inf]\n",
       "729          [0.5, 1, 2, 5, 10, +Inf]\n",
       "Name: le, Length: 178, dtype: object"
      ]
     },
     "execution_count": 42,
     "metadata": {},
     "output_type": "execute_result"
    }
   ],
   "source": [
    "root_df.query(\"path == '/users' and controller_pod == 'pod-1'\")['le']"
   ]
  },
  {
   "cell_type": "code",
   "execution_count": null,
   "id": "78b59fc737bbeb38",
   "metadata": {
    "ExecuteTime": {
     "end_time": "2024-02-02T03:19:35.842560800Z",
     "start_time": "2024-02-02T03:19:35.820569500Z"
    },
    "collapsed": false
   },
   "outputs": [],
   "source": []
  },
  {
   "cell_type": "code",
   "execution_count": 43,
   "id": "4b1df13e16fb3157",
   "metadata": {
    "ExecuteTime": {
     "end_time": "2024-02-02T03:19:35.876579800Z",
     "start_time": "2024-02-02T03:19:35.825665500Z"
    },
    "collapsed": false
   },
   "outputs": [],
   "source": [
    "group_dataset = root_df.groupby(group_by_el).count().reset_index()[group_by_el]"
   ]
  },
  {
   "cell_type": "code",
   "execution_count": 44,
   "id": "5a15bfa583296426",
   "metadata": {
    "ExecuteTime": {
     "end_time": "2024-02-02T03:19:35.879657400Z",
     "start_time": "2024-02-02T03:19:35.868843200Z"
    },
    "collapsed": false
   },
   "outputs": [
    {
     "data": {
      "text/html": [
       "<div>\n",
       "<style scoped>\n",
       "    .dataframe tbody tr th:only-of-type {\n",
       "        vertical-align: middle;\n",
       "    }\n",
       "\n",
       "    .dataframe tbody tr th {\n",
       "        vertical-align: top;\n",
       "    }\n",
       "\n",
       "    .dataframe thead th {\n",
       "        text-align: right;\n",
       "    }\n",
       "</style>\n",
       "<table border=\"1\" class=\"dataframe\">\n",
       "  <thead>\n",
       "    <tr style=\"text-align: right;\">\n",
       "      <th></th>\n",
       "      <th>path</th>\n",
       "      <th>method</th>\n",
       "      <th>service_name</th>\n",
       "      <th>controller_pod</th>\n",
       "    </tr>\n",
       "  </thead>\n",
       "  <tbody>\n",
       "    <tr>\n",
       "      <th>0</th>\n",
       "      <td>/home</td>\n",
       "      <td>GET</td>\n",
       "      <td>process_log</td>\n",
       "      <td>pod-1</td>\n",
       "    </tr>\n",
       "    <tr>\n",
       "      <th>1</th>\n",
       "      <td>/home</td>\n",
       "      <td>GET</td>\n",
       "      <td>process_log</td>\n",
       "      <td>pod-2</td>\n",
       "    </tr>\n",
       "    <tr>\n",
       "      <th>2</th>\n",
       "      <td>/users</td>\n",
       "      <td>GET</td>\n",
       "      <td>process_log</td>\n",
       "      <td>pod-1</td>\n",
       "    </tr>\n",
       "    <tr>\n",
       "      <th>3</th>\n",
       "      <td>/users</td>\n",
       "      <td>GET</td>\n",
       "      <td>process_log</td>\n",
       "      <td>pod-2</td>\n",
       "    </tr>\n",
       "  </tbody>\n",
       "</table>\n",
       "</div>"
      ],
      "text/plain": [
       "     path method service_name controller_pod\n",
       "0   /home    GET  process_log          pod-1\n",
       "1   /home    GET  process_log          pod-2\n",
       "2  /users    GET  process_log          pod-1\n",
       "3  /users    GET  process_log          pod-2"
      ]
     },
     "execution_count": 44,
     "metadata": {},
     "output_type": "execute_result"
    }
   ],
   "source": [
    "group_dataset"
   ]
  },
  {
   "cell_type": "code",
   "execution_count": 45,
   "id": "8ded6ebc8a2c9304",
   "metadata": {
    "ExecuteTime": {
     "end_time": "2024-02-02T03:19:35.890877400Z",
     "start_time": "2024-02-02T03:19:35.883543700Z"
    },
    "collapsed": false
   },
   "outputs": [],
   "source": [
    "from typing import Dict\n",
    "\n",
    "\n",
    "def bins_value(row, bins_dict: Dict):\n",
    "    # unwind data from list\n",
    "    list_le = row['le']\n",
    "    for le in list_le:\n",
    "        if le in bins_dict:\n",
    "            bins_dict[le] += 1\n",
    "    bins_series = pd.Series(\n",
    "        data=bins_dict, index=bins_dict.keys()  # type: ignore\n",
    "    )\n",
    "    # Join two series\n",
    "    new_row = pd.concat([row, bins_series])\n",
    "    return new_row"
   ]
  },
  {
   "cell_type": "code",
   "execution_count": 46,
   "id": "984d452cc1e16ca6",
   "metadata": {
    "ExecuteTime": {
     "end_time": "2024-02-02T03:19:51.577685800Z",
     "start_time": "2024-02-02T03:19:35.885642800Z"
    },
    "collapsed": false
   },
   "outputs": [],
   "source": [
    "# Bins value to bucket latency\n",
    "df_by_group = {}\n",
    "for idx, dataset in group_dataset.iterrows():\n",
    "    bins_dict = {k: 0 for k in BUCKETS}\n",
    "    bins_dict['+Inf'] = 0  # type: ignore\n",
    "    # Query for each group get dataframe and save it to datastructure\n",
    "    df_by_group[idx] = root_df.query(\n",
    "        \"path == @dataset['path'] \\\n",
    "                and method == @dataset['method'] \\\n",
    "                and service_name == @dataset['service_name'] \\\n",
    "                and controller_pod == @dataset['controller_pod']\") \\\n",
    "        .apply(lambda x: bins_value(x, bins_dict), axis=1)\n",
    "\n",
    "# Join all group dataframe processed by one dataframe\n",
    "df_by_group_incl_latency = pd.concat(df_by_group.values())"
   ]
  },
  {
   "cell_type": "code",
   "execution_count": 47,
   "id": "3c8d406c9ff63efe",
   "metadata": {
    "ExecuteTime": {
     "end_time": "2024-02-02T03:19:53.069628200Z",
     "start_time": "2024-02-02T03:19:51.579789Z"
    },
    "collapsed": false
   },
   "outputs": [],
   "source": [
    "from datetime import datetime\n",
    "\n",
    "df_by_group_incl_latency['timestamp'] = df_by_group_incl_latency['timestamp'].apply(\n",
    "    lambda x: datetime.strptime(x, \"%d/%m/%Y, %H:%M:%S\"))\n",
    "# Convert to datetime pandas and set datetime columns is index for dataframe\n",
    "df_by_group_incl_latency['timestamp'] = pd.to_datetime(root_df['timestamp'])\n",
    "df_by_group_incl_latency = df_by_group_incl_latency.set_index('timestamp')"
   ]
  },
  {
   "cell_type": "code",
   "execution_count": 48,
   "id": "b3f436e6d2373c81",
   "metadata": {
    "ExecuteTime": {
     "end_time": "2024-02-02T03:21:43.013700800Z",
     "start_time": "2024-02-02T03:21:43.004111Z"
    },
    "collapsed": false
   },
   "outputs": [],
   "source": [
    "df_by_group_incl_latency.rename(columns={v: str(v) for v in BUCKETS}, inplace=True)"
   ]
  },
  {
   "cell_type": "code",
   "execution_count": 49,
   "id": "18f0fab7da7b3dd5",
   "metadata": {
    "ExecuteTime": {
     "end_time": "2024-02-02T03:34:14.180509400Z",
     "start_time": "2024-02-02T03:34:14.082297Z"
    },
    "collapsed": false
   },
   "outputs": [],
   "source": [
    "df_by_group_incl_latency.groupby([pd.Grouper(freq=\"30s\")] + group_by_el).agg({str(el): \"last\" for el in BUCKETS + [\n",
    "    \"+Inf\"]}).reset_index().set_index('timestamp').to_csv(\"request_data_with_anomaly_pod_instance_2.csv\")"
   ]
  }
 ],
 "metadata": {
  "kernelspec": {
   "display_name": "Python 3",
   "language": "python",
   "name": "python3"
  },
  "language_info": {
   "codemirror_mode": {
    "name": "ipython",
    "version": 3
   },
   "file_extension": ".py",
   "mimetype": "text/x-python",
   "name": "python",
   "nbconvert_exporter": "python",
   "pygments_lexer": "ipython3",
   "version": "3.10.0"
  }
 },
 "nbformat": 4,
 "nbformat_minor": 5
}
